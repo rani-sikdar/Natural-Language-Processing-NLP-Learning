{
  "cells": [
    {
      "cell_type": "markdown",
      "metadata": {
        "id": "view-in-github",
        "colab_type": "text"
      },
      "source": [
        "<a href=\"https://colab.research.google.com/github/rani-sikdar/Natural-Language-Processing-NLP-Learning/blob/main/Spacy_Tutorial.ipynb\" target=\"_parent\"><img src=\"https://colab.research.google.com/assets/colab-badge.svg\" alt=\"Open In Colab\"/></a>"
      ]
    },
    {
      "cell_type": "code",
      "execution_count": 1,
      "id": "f15eb276",
      "metadata": {
        "id": "f15eb276",
        "outputId": "a0bc1435-113b-4dd3-a82a-31ca6a8a5b1b",
        "colab": {
          "base_uri": "https://localhost:8080/"
        }
      },
      "outputs": [
        {
          "output_type": "stream",
          "name": "stdout",
          "text": [
            "Requirement already satisfied: spacy in /usr/local/lib/python3.10/dist-packages (3.7.5)\n",
            "Requirement already satisfied: spacy-legacy<3.1.0,>=3.0.11 in /usr/local/lib/python3.10/dist-packages (from spacy) (3.0.12)\n",
            "Requirement already satisfied: spacy-loggers<2.0.0,>=1.0.0 in /usr/local/lib/python3.10/dist-packages (from spacy) (1.0.5)\n",
            "Requirement already satisfied: murmurhash<1.1.0,>=0.28.0 in /usr/local/lib/python3.10/dist-packages (from spacy) (1.0.11)\n",
            "Requirement already satisfied: cymem<2.1.0,>=2.0.2 in /usr/local/lib/python3.10/dist-packages (from spacy) (2.0.10)\n",
            "Requirement already satisfied: preshed<3.1.0,>=3.0.2 in /usr/local/lib/python3.10/dist-packages (from spacy) (3.0.9)\n",
            "Requirement already satisfied: thinc<8.3.0,>=8.2.2 in /usr/local/lib/python3.10/dist-packages (from spacy) (8.2.5)\n",
            "Requirement already satisfied: wasabi<1.2.0,>=0.9.1 in /usr/local/lib/python3.10/dist-packages (from spacy) (1.1.3)\n",
            "Requirement already satisfied: srsly<3.0.0,>=2.4.3 in /usr/local/lib/python3.10/dist-packages (from spacy) (2.4.8)\n",
            "Requirement already satisfied: catalogue<2.1.0,>=2.0.6 in /usr/local/lib/python3.10/dist-packages (from spacy) (2.0.10)\n",
            "Requirement already satisfied: weasel<0.5.0,>=0.1.0 in /usr/local/lib/python3.10/dist-packages (from spacy) (0.4.1)\n",
            "Requirement already satisfied: typer<1.0.0,>=0.3.0 in /usr/local/lib/python3.10/dist-packages (from spacy) (0.15.0)\n",
            "Requirement already satisfied: tqdm<5.0.0,>=4.38.0 in /usr/local/lib/python3.10/dist-packages (from spacy) (4.66.6)\n",
            "Requirement already satisfied: requests<3.0.0,>=2.13.0 in /usr/local/lib/python3.10/dist-packages (from spacy) (2.32.3)\n",
            "Requirement already satisfied: pydantic!=1.8,!=1.8.1,<3.0.0,>=1.7.4 in /usr/local/lib/python3.10/dist-packages (from spacy) (2.10.3)\n",
            "Requirement already satisfied: jinja2 in /usr/local/lib/python3.10/dist-packages (from spacy) (3.1.4)\n",
            "Requirement already satisfied: setuptools in /usr/local/lib/python3.10/dist-packages (from spacy) (75.1.0)\n",
            "Requirement already satisfied: packaging>=20.0 in /usr/local/lib/python3.10/dist-packages (from spacy) (24.2)\n",
            "Requirement already satisfied: langcodes<4.0.0,>=3.2.0 in /usr/local/lib/python3.10/dist-packages (from spacy) (3.5.0)\n",
            "Requirement already satisfied: numpy>=1.19.0 in /usr/local/lib/python3.10/dist-packages (from spacy) (1.26.4)\n",
            "Requirement already satisfied: language-data>=1.2 in /usr/local/lib/python3.10/dist-packages (from langcodes<4.0.0,>=3.2.0->spacy) (1.3.0)\n",
            "Requirement already satisfied: annotated-types>=0.6.0 in /usr/local/lib/python3.10/dist-packages (from pydantic!=1.8,!=1.8.1,<3.0.0,>=1.7.4->spacy) (0.7.0)\n",
            "Requirement already satisfied: pydantic-core==2.27.1 in /usr/local/lib/python3.10/dist-packages (from pydantic!=1.8,!=1.8.1,<3.0.0,>=1.7.4->spacy) (2.27.1)\n",
            "Requirement already satisfied: typing-extensions>=4.12.2 in /usr/local/lib/python3.10/dist-packages (from pydantic!=1.8,!=1.8.1,<3.0.0,>=1.7.4->spacy) (4.12.2)\n",
            "Requirement already satisfied: charset-normalizer<4,>=2 in /usr/local/lib/python3.10/dist-packages (from requests<3.0.0,>=2.13.0->spacy) (3.4.0)\n",
            "Requirement already satisfied: idna<4,>=2.5 in /usr/local/lib/python3.10/dist-packages (from requests<3.0.0,>=2.13.0->spacy) (3.10)\n",
            "Requirement already satisfied: urllib3<3,>=1.21.1 in /usr/local/lib/python3.10/dist-packages (from requests<3.0.0,>=2.13.0->spacy) (2.2.3)\n",
            "Requirement already satisfied: certifi>=2017.4.17 in /usr/local/lib/python3.10/dist-packages (from requests<3.0.0,>=2.13.0->spacy) (2024.8.30)\n",
            "Requirement already satisfied: blis<0.8.0,>=0.7.8 in /usr/local/lib/python3.10/dist-packages (from thinc<8.3.0,>=8.2.2->spacy) (0.7.11)\n",
            "Requirement already satisfied: confection<1.0.0,>=0.0.1 in /usr/local/lib/python3.10/dist-packages (from thinc<8.3.0,>=8.2.2->spacy) (0.1.5)\n",
            "Requirement already satisfied: click>=8.0.0 in /usr/local/lib/python3.10/dist-packages (from typer<1.0.0,>=0.3.0->spacy) (8.1.7)\n",
            "Requirement already satisfied: shellingham>=1.3.0 in /usr/local/lib/python3.10/dist-packages (from typer<1.0.0,>=0.3.0->spacy) (1.5.4)\n",
            "Requirement already satisfied: rich>=10.11.0 in /usr/local/lib/python3.10/dist-packages (from typer<1.0.0,>=0.3.0->spacy) (13.9.4)\n",
            "Requirement already satisfied: cloudpathlib<1.0.0,>=0.7.0 in /usr/local/lib/python3.10/dist-packages (from weasel<0.5.0,>=0.1.0->spacy) (0.20.0)\n",
            "Requirement already satisfied: smart-open<8.0.0,>=5.2.1 in /usr/local/lib/python3.10/dist-packages (from weasel<0.5.0,>=0.1.0->spacy) (7.0.5)\n",
            "Requirement already satisfied: MarkupSafe>=2.0 in /usr/local/lib/python3.10/dist-packages (from jinja2->spacy) (3.0.2)\n",
            "Requirement already satisfied: marisa-trie>=1.1.0 in /usr/local/lib/python3.10/dist-packages (from language-data>=1.2->langcodes<4.0.0,>=3.2.0->spacy) (1.2.1)\n",
            "Requirement already satisfied: markdown-it-py>=2.2.0 in /usr/local/lib/python3.10/dist-packages (from rich>=10.11.0->typer<1.0.0,>=0.3.0->spacy) (3.0.0)\n",
            "Requirement already satisfied: pygments<3.0.0,>=2.13.0 in /usr/local/lib/python3.10/dist-packages (from rich>=10.11.0->typer<1.0.0,>=0.3.0->spacy) (2.18.0)\n",
            "Requirement already satisfied: wrapt in /usr/local/lib/python3.10/dist-packages (from smart-open<8.0.0,>=5.2.1->weasel<0.5.0,>=0.1.0->spacy) (1.17.0)\n",
            "Requirement already satisfied: mdurl~=0.1 in /usr/local/lib/python3.10/dist-packages (from markdown-it-py>=2.2.0->rich>=10.11.0->typer<1.0.0,>=0.3.0->spacy) (0.1.2)\n"
          ]
        }
      ],
      "source": [
        "!pip install spacy"
      ]
    },
    {
      "cell_type": "code",
      "execution_count": 2,
      "id": "3d892103",
      "metadata": {
        "id": "3d892103",
        "outputId": "0b5f3295-4f86-4336-b83e-760411a238af",
        "colab": {
          "base_uri": "https://localhost:8080/"
        }
      },
      "outputs": [
        {
          "output_type": "stream",
          "name": "stdout",
          "text": [
            "Collecting en-core-web-sm==3.7.1\n",
            "  Downloading https://github.com/explosion/spacy-models/releases/download/en_core_web_sm-3.7.1/en_core_web_sm-3.7.1-py3-none-any.whl (12.8 MB)\n",
            "\u001b[2K     \u001b[90m━━━━━━━━━━━━━━━━━━━━━━━━━━━━━━━━━━━━━━━━\u001b[0m \u001b[32m12.8/12.8 MB\u001b[0m \u001b[31m103.1 MB/s\u001b[0m eta \u001b[36m0:00:00\u001b[0m\n",
            "\u001b[?25hRequirement already satisfied: spacy<3.8.0,>=3.7.2 in /usr/local/lib/python3.10/dist-packages (from en-core-web-sm==3.7.1) (3.7.5)\n",
            "Requirement already satisfied: spacy-legacy<3.1.0,>=3.0.11 in /usr/local/lib/python3.10/dist-packages (from spacy<3.8.0,>=3.7.2->en-core-web-sm==3.7.1) (3.0.12)\n",
            "Requirement already satisfied: spacy-loggers<2.0.0,>=1.0.0 in /usr/local/lib/python3.10/dist-packages (from spacy<3.8.0,>=3.7.2->en-core-web-sm==3.7.1) (1.0.5)\n",
            "Requirement already satisfied: murmurhash<1.1.0,>=0.28.0 in /usr/local/lib/python3.10/dist-packages (from spacy<3.8.0,>=3.7.2->en-core-web-sm==3.7.1) (1.0.11)\n",
            "Requirement already satisfied: cymem<2.1.0,>=2.0.2 in /usr/local/lib/python3.10/dist-packages (from spacy<3.8.0,>=3.7.2->en-core-web-sm==3.7.1) (2.0.10)\n",
            "Requirement already satisfied: preshed<3.1.0,>=3.0.2 in /usr/local/lib/python3.10/dist-packages (from spacy<3.8.0,>=3.7.2->en-core-web-sm==3.7.1) (3.0.9)\n",
            "Requirement already satisfied: thinc<8.3.0,>=8.2.2 in /usr/local/lib/python3.10/dist-packages (from spacy<3.8.0,>=3.7.2->en-core-web-sm==3.7.1) (8.2.5)\n",
            "Requirement already satisfied: wasabi<1.2.0,>=0.9.1 in /usr/local/lib/python3.10/dist-packages (from spacy<3.8.0,>=3.7.2->en-core-web-sm==3.7.1) (1.1.3)\n",
            "Requirement already satisfied: srsly<3.0.0,>=2.4.3 in /usr/local/lib/python3.10/dist-packages (from spacy<3.8.0,>=3.7.2->en-core-web-sm==3.7.1) (2.4.8)\n",
            "Requirement already satisfied: catalogue<2.1.0,>=2.0.6 in /usr/local/lib/python3.10/dist-packages (from spacy<3.8.0,>=3.7.2->en-core-web-sm==3.7.1) (2.0.10)\n",
            "Requirement already satisfied: weasel<0.5.0,>=0.1.0 in /usr/local/lib/python3.10/dist-packages (from spacy<3.8.0,>=3.7.2->en-core-web-sm==3.7.1) (0.4.1)\n",
            "Requirement already satisfied: typer<1.0.0,>=0.3.0 in /usr/local/lib/python3.10/dist-packages (from spacy<3.8.0,>=3.7.2->en-core-web-sm==3.7.1) (0.15.0)\n",
            "Requirement already satisfied: tqdm<5.0.0,>=4.38.0 in /usr/local/lib/python3.10/dist-packages (from spacy<3.8.0,>=3.7.2->en-core-web-sm==3.7.1) (4.66.6)\n",
            "Requirement already satisfied: requests<3.0.0,>=2.13.0 in /usr/local/lib/python3.10/dist-packages (from spacy<3.8.0,>=3.7.2->en-core-web-sm==3.7.1) (2.32.3)\n",
            "Requirement already satisfied: pydantic!=1.8,!=1.8.1,<3.0.0,>=1.7.4 in /usr/local/lib/python3.10/dist-packages (from spacy<3.8.0,>=3.7.2->en-core-web-sm==3.7.1) (2.10.3)\n",
            "Requirement already satisfied: jinja2 in /usr/local/lib/python3.10/dist-packages (from spacy<3.8.0,>=3.7.2->en-core-web-sm==3.7.1) (3.1.4)\n",
            "Requirement already satisfied: setuptools in /usr/local/lib/python3.10/dist-packages (from spacy<3.8.0,>=3.7.2->en-core-web-sm==3.7.1) (75.1.0)\n",
            "Requirement already satisfied: packaging>=20.0 in /usr/local/lib/python3.10/dist-packages (from spacy<3.8.0,>=3.7.2->en-core-web-sm==3.7.1) (24.2)\n",
            "Requirement already satisfied: langcodes<4.0.0,>=3.2.0 in /usr/local/lib/python3.10/dist-packages (from spacy<3.8.0,>=3.7.2->en-core-web-sm==3.7.1) (3.5.0)\n",
            "Requirement already satisfied: numpy>=1.19.0 in /usr/local/lib/python3.10/dist-packages (from spacy<3.8.0,>=3.7.2->en-core-web-sm==3.7.1) (1.26.4)\n",
            "Requirement already satisfied: language-data>=1.2 in /usr/local/lib/python3.10/dist-packages (from langcodes<4.0.0,>=3.2.0->spacy<3.8.0,>=3.7.2->en-core-web-sm==3.7.1) (1.3.0)\n",
            "Requirement already satisfied: annotated-types>=0.6.0 in /usr/local/lib/python3.10/dist-packages (from pydantic!=1.8,!=1.8.1,<3.0.0,>=1.7.4->spacy<3.8.0,>=3.7.2->en-core-web-sm==3.7.1) (0.7.0)\n",
            "Requirement already satisfied: pydantic-core==2.27.1 in /usr/local/lib/python3.10/dist-packages (from pydantic!=1.8,!=1.8.1,<3.0.0,>=1.7.4->spacy<3.8.0,>=3.7.2->en-core-web-sm==3.7.1) (2.27.1)\n",
            "Requirement already satisfied: typing-extensions>=4.12.2 in /usr/local/lib/python3.10/dist-packages (from pydantic!=1.8,!=1.8.1,<3.0.0,>=1.7.4->spacy<3.8.0,>=3.7.2->en-core-web-sm==3.7.1) (4.12.2)\n",
            "Requirement already satisfied: charset-normalizer<4,>=2 in /usr/local/lib/python3.10/dist-packages (from requests<3.0.0,>=2.13.0->spacy<3.8.0,>=3.7.2->en-core-web-sm==3.7.1) (3.4.0)\n",
            "Requirement already satisfied: idna<4,>=2.5 in /usr/local/lib/python3.10/dist-packages (from requests<3.0.0,>=2.13.0->spacy<3.8.0,>=3.7.2->en-core-web-sm==3.7.1) (3.10)\n",
            "Requirement already satisfied: urllib3<3,>=1.21.1 in /usr/local/lib/python3.10/dist-packages (from requests<3.0.0,>=2.13.0->spacy<3.8.0,>=3.7.2->en-core-web-sm==3.7.1) (2.2.3)\n",
            "Requirement already satisfied: certifi>=2017.4.17 in /usr/local/lib/python3.10/dist-packages (from requests<3.0.0,>=2.13.0->spacy<3.8.0,>=3.7.2->en-core-web-sm==3.7.1) (2024.8.30)\n",
            "Requirement already satisfied: blis<0.8.0,>=0.7.8 in /usr/local/lib/python3.10/dist-packages (from thinc<8.3.0,>=8.2.2->spacy<3.8.0,>=3.7.2->en-core-web-sm==3.7.1) (0.7.11)\n",
            "Requirement already satisfied: confection<1.0.0,>=0.0.1 in /usr/local/lib/python3.10/dist-packages (from thinc<8.3.0,>=8.2.2->spacy<3.8.0,>=3.7.2->en-core-web-sm==3.7.1) (0.1.5)\n",
            "Requirement already satisfied: click>=8.0.0 in /usr/local/lib/python3.10/dist-packages (from typer<1.0.0,>=0.3.0->spacy<3.8.0,>=3.7.2->en-core-web-sm==3.7.1) (8.1.7)\n",
            "Requirement already satisfied: shellingham>=1.3.0 in /usr/local/lib/python3.10/dist-packages (from typer<1.0.0,>=0.3.0->spacy<3.8.0,>=3.7.2->en-core-web-sm==3.7.1) (1.5.4)\n",
            "Requirement already satisfied: rich>=10.11.0 in /usr/local/lib/python3.10/dist-packages (from typer<1.0.0,>=0.3.0->spacy<3.8.0,>=3.7.2->en-core-web-sm==3.7.1) (13.9.4)\n",
            "Requirement already satisfied: cloudpathlib<1.0.0,>=0.7.0 in /usr/local/lib/python3.10/dist-packages (from weasel<0.5.0,>=0.1.0->spacy<3.8.0,>=3.7.2->en-core-web-sm==3.7.1) (0.20.0)\n",
            "Requirement already satisfied: smart-open<8.0.0,>=5.2.1 in /usr/local/lib/python3.10/dist-packages (from weasel<0.5.0,>=0.1.0->spacy<3.8.0,>=3.7.2->en-core-web-sm==3.7.1) (7.0.5)\n",
            "Requirement already satisfied: MarkupSafe>=2.0 in /usr/local/lib/python3.10/dist-packages (from jinja2->spacy<3.8.0,>=3.7.2->en-core-web-sm==3.7.1) (3.0.2)\n",
            "Requirement already satisfied: marisa-trie>=1.1.0 in /usr/local/lib/python3.10/dist-packages (from language-data>=1.2->langcodes<4.0.0,>=3.2.0->spacy<3.8.0,>=3.7.2->en-core-web-sm==3.7.1) (1.2.1)\n",
            "Requirement already satisfied: markdown-it-py>=2.2.0 in /usr/local/lib/python3.10/dist-packages (from rich>=10.11.0->typer<1.0.0,>=0.3.0->spacy<3.8.0,>=3.7.2->en-core-web-sm==3.7.1) (3.0.0)\n",
            "Requirement already satisfied: pygments<3.0.0,>=2.13.0 in /usr/local/lib/python3.10/dist-packages (from rich>=10.11.0->typer<1.0.0,>=0.3.0->spacy<3.8.0,>=3.7.2->en-core-web-sm==3.7.1) (2.18.0)\n",
            "Requirement already satisfied: wrapt in /usr/local/lib/python3.10/dist-packages (from smart-open<8.0.0,>=5.2.1->weasel<0.5.0,>=0.1.0->spacy<3.8.0,>=3.7.2->en-core-web-sm==3.7.1) (1.17.0)\n",
            "Requirement already satisfied: mdurl~=0.1 in /usr/local/lib/python3.10/dist-packages (from markdown-it-py>=2.2.0->rich>=10.11.0->typer<1.0.0,>=0.3.0->spacy<3.8.0,>=3.7.2->en-core-web-sm==3.7.1) (0.1.2)\n",
            "\u001b[38;5;2m✔ Download and installation successful\u001b[0m\n",
            "You can now load the package via spacy.load('en_core_web_sm')\n",
            "\u001b[38;5;3m⚠ Restart to reload dependencies\u001b[0m\n",
            "If you are in a Jupyter or Colab notebook, you may need to restart Python in\n",
            "order to load all the package's dependencies. You can do this by selecting the\n",
            "'Restart kernel' or 'Restart runtime' option.\n"
          ]
        }
      ],
      "source": [
        "!python -m spacy download en_core_web_sm"
      ]
    },
    {
      "cell_type": "code",
      "execution_count": 3,
      "id": "ec8ac2ff",
      "metadata": {
        "id": "ec8ac2ff"
      },
      "outputs": [],
      "source": [
        "import spacy\n",
        "nlp = spacy.load('en_core_web_sm')"
      ]
    },
    {
      "cell_type": "code",
      "execution_count": 4,
      "id": "882b8592",
      "metadata": {
        "id": "882b8592",
        "outputId": "0c7901fc-bb9c-44cf-a7ab-2570ed9806e8",
        "colab": {
          "base_uri": "https://localhost:8080/",
          "height": 203
        }
      },
      "outputs": [
        {
          "output_type": "execute_result",
          "data": {
            "text/plain": [
              "spacy.lang.en.English"
            ],
            "text/html": [
              "<div style=\"max-width:800px; border: 1px solid var(--colab-border-color);\"><style>\n",
              "      pre.function-repr-contents {\n",
              "        overflow-x: auto;\n",
              "        padding: 8px 12px;\n",
              "        max-height: 500px;\n",
              "      }\n",
              "\n",
              "      pre.function-repr-contents.function-repr-contents-collapsed {\n",
              "        cursor: pointer;\n",
              "        max-height: 100px;\n",
              "      }\n",
              "    </style>\n",
              "    <pre style=\"white-space: initial; background:\n",
              "         var(--colab-secondary-surface-color); padding: 8px 12px;\n",
              "         border-bottom: 1px solid var(--colab-border-color);\"><b>spacy.lang.en.English</b><br/>def __call__(text: Union[str, Doc], *, disable: Iterable[str]=SimpleFrozenList(), component_cfg: Optional[Dict[str, Dict[str, Any]]]=None) -&gt; Doc</pre><pre class=\"function-repr-contents function-repr-contents-collapsed\" style=\"\"><a class=\"filepath\" style=\"display:none\" href=\"#\">/usr/local/lib/python3.10/dist-packages/spacy/lang/en/__init__.py</a>A text-processing pipeline. Usually you&#x27;ll load this once per process,\n",
              "and pass the instance around your application.\n",
              "\n",
              "Defaults (class): Settings, data and factory methods for creating the `nlp`\n",
              "    object and processing pipeline.\n",
              "lang (str): IETF language code, such as &#x27;en&#x27;.\n",
              "\n",
              "DOCS: https://spacy.io/api/language</pre>\n",
              "      <script>\n",
              "      if (google.colab.kernel.accessAllowed && google.colab.files && google.colab.files.view) {\n",
              "        for (const element of document.querySelectorAll('.filepath')) {\n",
              "          element.style.display = 'block'\n",
              "          element.onclick = (event) => {\n",
              "            event.preventDefault();\n",
              "            event.stopPropagation();\n",
              "            google.colab.files.view(element.textContent, 22);\n",
              "          };\n",
              "        }\n",
              "      }\n",
              "      for (const element of document.querySelectorAll('.function-repr-contents')) {\n",
              "        element.onclick = (event) => {\n",
              "          event.preventDefault();\n",
              "          event.stopPropagation();\n",
              "          element.classList.toggle('function-repr-contents-collapsed');\n",
              "        };\n",
              "      }\n",
              "      </script>\n",
              "      </div>"
            ]
          },
          "metadata": {},
          "execution_count": 4
        }
      ],
      "source": [
        "type(nlp)"
      ]
    },
    {
      "cell_type": "code",
      "execution_count": 5,
      "id": "be9c6091",
      "metadata": {
        "id": "be9c6091",
        "outputId": "6426d013-e079-4753-d662-63fa798a0d14",
        "colab": {
          "base_uri": "https://localhost:8080/"
        }
      },
      "outputs": [
        {
          "output_type": "execute_result",
          "data": {
            "text/plain": [
              "We are learning spacy. It is sued for NLP"
            ]
          },
          "metadata": {},
          "execution_count": 5
        }
      ],
      "source": [
        "# creating a document\n",
        "doc1 = nlp('We are learning spacy. It is sued for NLP')\n",
        "doc1"
      ]
    },
    {
      "cell_type": "code",
      "execution_count": 6,
      "id": "0ca37d85",
      "metadata": {
        "id": "0ca37d85",
        "outputId": "75ffc608-36dd-4bb0-b23e-354e0df7aa8d",
        "colab": {
          "base_uri": "https://localhost:8080/"
        }
      },
      "outputs": [
        {
          "output_type": "execute_result",
          "data": {
            "text/plain": [
              "spacy.tokens.doc.Doc"
            ]
          },
          "metadata": {},
          "execution_count": 6
        }
      ],
      "source": [
        "type(doc1)"
      ]
    },
    {
      "cell_type": "code",
      "execution_count": 8,
      "id": "1ac32572",
      "metadata": {
        "id": "1ac32572",
        "outputId": "5bdecda4-4f1b-48a4-ef97-60c2aa744112",
        "colab": {
          "base_uri": "https://localhost:8080/",
          "height": 72
        }
      },
      "outputs": [
        {
          "output_type": "execute_result",
          "data": {
            "text/plain": [
              "'Hello Guys,\\n\\nWe are learning spaCy , a cool nlp library.\\n\\nSome of its Features are:-\\n\\nEasy deep learning integration.\\nNon-destructive tokenization.\\nExport to numpy data arrays.\\nNamed entity recognition.\\nSupport for 51+ languages.\\nPre-trained word vectors.\\nState-of-the-art speed.\\nPart-of-speech tagging.\\nRobust, rigorously evaluated accuracy and many more'"
            ],
            "application/vnd.google.colaboratory.intrinsic+json": {
              "type": "string"
            }
          },
          "metadata": {},
          "execution_count": 8
        }
      ],
      "source": [
        "# Reading from a file\n",
        "myfile = open('learnspacy.txt').read()\n",
        "myfile"
      ]
    },
    {
      "cell_type": "code",
      "execution_count": 9,
      "id": "6142ea99",
      "metadata": {
        "id": "6142ea99",
        "outputId": "d1eeab4d-b485-4b89-8913-8ccf11685ee4",
        "colab": {
          "base_uri": "https://localhost:8080/"
        }
      },
      "outputs": [
        {
          "output_type": "execute_result",
          "data": {
            "text/plain": [
              "Hello Guys,\n",
              "\n",
              "We are learning spaCy , a cool nlp library.\n",
              "\n",
              "Some of its Features are:-\n",
              "\n",
              "Easy deep learning integration.\n",
              "Non-destructive tokenization.\n",
              "Export to numpy data arrays.\n",
              "Named entity recognition.\n",
              "Support for 51+ languages.\n",
              "Pre-trained word vectors.\n",
              "State-of-the-art speed.\n",
              "Part-of-speech tagging.\n",
              "Robust, rigorously evaluated accuracy and many more"
            ]
          },
          "metadata": {},
          "execution_count": 9
        }
      ],
      "source": [
        "file1 = nlp(myfile)\n",
        "file1"
      ]
    },
    {
      "cell_type": "code",
      "execution_count": 10,
      "id": "631f2996",
      "metadata": {
        "id": "631f2996",
        "outputId": "7fc2e04f-7237-42c7-faee-2fd2ab2164ef",
        "colab": {
          "base_uri": "https://localhost:8080/"
        }
      },
      "outputs": [
        {
          "output_type": "execute_result",
          "data": {
            "text/plain": [
              "spacy.tokens.doc.Doc"
            ]
          },
          "metadata": {},
          "execution_count": 10
        }
      ],
      "source": [
        "type(file1)"
      ]
    },
    {
      "cell_type": "markdown",
      "id": "7a4a70d7",
      "metadata": {
        "id": "7a4a70d7"
      },
      "source": [
        "## Sentence Tokenization"
      ]
    },
    {
      "cell_type": "code",
      "execution_count": 11,
      "id": "942efbcc",
      "metadata": {
        "id": "942efbcc",
        "outputId": "d9085120-7bea-4b3f-86c3-9788e4ac8b8f",
        "colab": {
          "base_uri": "https://localhost:8080/"
        }
      },
      "outputs": [
        {
          "output_type": "execute_result",
          "data": {
            "text/plain": [
              "<generator at 0x7d54f258f740>"
            ]
          },
          "metadata": {},
          "execution_count": 11
        }
      ],
      "source": [
        "file1.sents"
      ]
    },
    {
      "cell_type": "code",
      "execution_count": 12,
      "id": "60992ebd",
      "metadata": {
        "id": "60992ebd",
        "outputId": "f471279d-a3f5-466d-8eb3-0a07d8508d2e",
        "colab": {
          "base_uri": "https://localhost:8080/"
        }
      },
      "outputs": [
        {
          "output_type": "stream",
          "name": "stdout",
          "text": [
            "0 : Hello Guys,\n",
            "\n",
            "We are learning spaCy , a cool nlp library.\n",
            "\n",
            "\n",
            "1 : Some of its Features are:-\n",
            "\n",
            "Easy deep learning integration.\n",
            "\n",
            "2 : Non-destructive tokenization.\n",
            "\n",
            "3 : Export to numpy data arrays.\n",
            "\n",
            "4 : Named entity recognition.\n",
            "\n",
            "5 : Support for 51+ languages.\n",
            "\n",
            "6 : Pre-trained word vectors.\n",
            "\n",
            "7 : State-of-the-art speed.\n",
            "\n",
            "8 : Part-of-speech tagging.\n",
            "\n",
            "9 : Robust, rigorously evaluated accuracy and many more\n"
          ]
        }
      ],
      "source": [
        "for num, sentence in enumerate(file1.sents):\n",
        "    print('{} : {}'.format(num, sentence))"
      ]
    },
    {
      "cell_type": "code",
      "execution_count": 13,
      "id": "fad3cfdf",
      "metadata": {
        "id": "fad3cfdf",
        "outputId": "c645f27c-86f8-4c06-9f78-713ab032a591",
        "colab": {
          "base_uri": "https://localhost:8080/"
        }
      },
      "outputs": [
        {
          "output_type": "stream",
          "name": "stdout",
          "text": [
            "Hello Guys,\n",
            "\n",
            "We are learning spaCy , a cool nlp library.\n",
            "\n",
            "\n",
            "Some of its Features are:-\n",
            "\n",
            "Easy deep learning integration.\n",
            "\n",
            "Non-destructive tokenization.\n",
            "\n",
            "Export to numpy data arrays.\n",
            "\n",
            "Named entity recognition.\n",
            "\n",
            "Support for 51+ languages.\n",
            "\n",
            "Pre-trained word vectors.\n",
            "\n",
            "State-of-the-art speed.\n",
            "\n",
            "Part-of-speech tagging.\n",
            "\n",
            "Robust, rigorously evaluated accuracy and many more\n"
          ]
        }
      ],
      "source": [
        "for sentence in file1.sents:\n",
        "    print(sentence)"
      ]
    },
    {
      "cell_type": "code",
      "execution_count": 14,
      "id": "231d0ad8",
      "metadata": {
        "id": "231d0ad8",
        "outputId": "13e42d1d-d9da-452a-ac01-f8c86679e959",
        "colab": {
          "base_uri": "https://localhost:8080/"
        }
      },
      "outputs": [
        {
          "output_type": "stream",
          "name": "stdout",
          "text": [
            "0 : We have learned Tokenization.\n",
            "1 : We have learned Sequencing.\n",
            "2 : We have learned padding.\n",
            "\n",
            "3 : We have learned to use pre trained embeddings.\n",
            "4 : We have learned stemming, lemmatization,\n",
            "dealing with stopwords and part of speech tagging.\n",
            "\n",
            "5 : We are learning the spacy library.\n"
          ]
        }
      ],
      "source": [
        "text = '''We have learned Tokenization. We have learned Sequencing. We have learned padding.\n",
        "We have learned to use pre trained embeddings. We have learned stemming, lemmatization,\n",
        "dealing with stopwords and part of speech tagging.\n",
        "We are learning the spacy library.'''\n",
        "\n",
        "doc3 = nlp(text)\n",
        "for num,sentence in enumerate(doc3.sents):\n",
        "    print('{} : {}'.format(num,sentence))"
      ]
    },
    {
      "cell_type": "markdown",
      "id": "22e8c7ec",
      "metadata": {
        "id": "22e8c7ec"
      },
      "source": [
        "## Word Tokenization"
      ]
    },
    {
      "cell_type": "code",
      "execution_count": 15,
      "id": "7a33fcb6",
      "metadata": {
        "id": "7a33fcb6",
        "outputId": "5e7c259d-a5a8-492d-d6bb-0b1b1f9f8af8",
        "colab": {
          "base_uri": "https://localhost:8080/"
        }
      },
      "outputs": [
        {
          "output_type": "execute_result",
          "data": {
            "text/plain": [
              "The spacy library is useful for NLP tasks"
            ]
          },
          "metadata": {},
          "execution_count": 15
        }
      ],
      "source": [
        "doc1 = nlp('The spacy library is useful for NLP tasks')\n",
        "doc1"
      ]
    },
    {
      "cell_type": "code",
      "execution_count": 16,
      "id": "a602b6c3",
      "metadata": {
        "id": "a602b6c3",
        "outputId": "67d53e12-2085-4cb6-a587-fcb12433d656",
        "colab": {
          "base_uri": "https://localhost:8080/"
        }
      },
      "outputs": [
        {
          "output_type": "stream",
          "name": "stdout",
          "text": [
            "The\n",
            "spacy\n",
            "library\n",
            "is\n",
            "useful\n",
            "for\n",
            "NLP\n",
            "tasks\n"
          ]
        }
      ],
      "source": [
        "for token in doc1:\n",
        "    print(token.text)"
      ]
    },
    {
      "cell_type": "code",
      "execution_count": 17,
      "id": "1c201905",
      "metadata": {
        "id": "1c201905",
        "outputId": "5790f078-6622-48fb-8c6f-6cc75e315e0e",
        "colab": {
          "base_uri": "https://localhost:8080/",
          "height": 36
        }
      },
      "outputs": [
        {
          "output_type": "execute_result",
          "data": {
            "text/plain": [
              "'The spacy library is useful for NLP tasks'"
            ],
            "application/vnd.google.colaboratory.intrinsic+json": {
              "type": "string"
            }
          },
          "metadata": {},
          "execution_count": 17
        }
      ],
      "source": [
        "doc1.text"
      ]
    },
    {
      "cell_type": "markdown",
      "id": "19f46fa1",
      "metadata": {
        "id": "19f46fa1"
      },
      "source": [
        "## Word Properties"
      ]
    },
    {
      "cell_type": "code",
      "execution_count": 18,
      "id": "878238cc",
      "metadata": {
        "id": "878238cc",
        "outputId": "277650e1-d1a1-417d-e501-792cdf4d5991",
        "colab": {
          "base_uri": "https://localhost:8080/"
        }
      },
      "outputs": [
        {
          "output_type": "execute_result",
          "data": {
            "text/plain": [
              "I have 3 coins and a 10 rupee note"
            ]
          },
          "metadata": {},
          "execution_count": 18
        }
      ],
      "source": [
        "doc2 = nlp('I have 3 coins and a 10 rupee note')\n",
        "doc2"
      ]
    },
    {
      "cell_type": "code",
      "execution_count": 19,
      "id": "9f886702",
      "metadata": {
        "id": "9f886702",
        "outputId": "95cc2fe6-031e-421a-c8fe-800d93c7a85d",
        "colab": {
          "base_uri": "https://localhost:8080/"
        }
      },
      "outputs": [
        {
          "output_type": "stream",
          "name": "stdout",
          "text": [
            "I   :   True\n",
            "have   :   True\n",
            "3   :   False\n",
            "coins   :   False\n",
            "and   :   True\n",
            "a   :   True\n",
            "10   :   False\n",
            "rupee   :   False\n",
            "note   :   False\n"
          ]
        }
      ],
      "source": [
        "for word in doc2:\n",
        "    print(word.text, '  :  ', word.is_stop)"
      ]
    },
    {
      "cell_type": "code",
      "execution_count": 20,
      "id": "aae8520c",
      "metadata": {
        "id": "aae8520c",
        "outputId": "90a6ea9e-5b22-4a4e-c381-8b6cb9d9daab",
        "colab": {
          "base_uri": "https://localhost:8080/"
        }
      },
      "outputs": [
        {
          "output_type": "stream",
          "name": "stdout",
          "text": [
            "I   :   True\n",
            "have   :   True\n",
            "3   :   False\n",
            "coins   :   True\n",
            "and   :   True\n",
            "a   :   True\n",
            "10   :   False\n",
            "rupee   :   True\n",
            "note   :   True\n"
          ]
        }
      ],
      "source": [
        "for word in doc2:\n",
        "    print(word.text, '  :  ', word.is_alpha)"
      ]
    },
    {
      "cell_type": "markdown",
      "id": "c4763f2d",
      "metadata": {
        "id": "c4763f2d"
      },
      "source": [
        "## Part Of Speech tagging"
      ]
    },
    {
      "cell_type": "code",
      "execution_count": 21,
      "id": "5b849356",
      "metadata": {
        "id": "5b849356",
        "outputId": "03626e04-7abe-40eb-a29e-a934134c276c",
        "colab": {
          "base_uri": "https://localhost:8080/"
        }
      },
      "outputs": [
        {
          "output_type": "execute_result",
          "data": {
            "text/plain": [
              "The spacy library is useful for NLP tasks"
            ]
          },
          "metadata": {},
          "execution_count": 21
        }
      ],
      "source": [
        "doc1 = nlp('The spacy library is useful for NLP tasks')\n",
        "doc1"
      ]
    },
    {
      "cell_type": "code",
      "execution_count": 22,
      "id": "5d2f51a5",
      "metadata": {
        "id": "5d2f51a5",
        "outputId": "b29abc8c-f19d-414a-e9c8-b099cbef40fc",
        "colab": {
          "base_uri": "https://localhost:8080/"
        }
      },
      "outputs": [
        {
          "output_type": "stream",
          "name": "stdout",
          "text": [
            "The    DET\n",
            "spacy    NOUN\n",
            "library    NOUN\n",
            "is    AUX\n",
            "useful    ADJ\n",
            "for    ADP\n",
            "NLP    PROPN\n",
            "tasks    NOUN\n"
          ]
        }
      ],
      "source": [
        "for word in doc1:\n",
        "    print(word.text, '  ', word.pos_)"
      ]
    },
    {
      "cell_type": "code",
      "execution_count": 23,
      "id": "ed293f95",
      "metadata": {
        "id": "ed293f95",
        "outputId": "11ea8571-12de-4d08-b6be-305dc12649d6",
        "colab": {
          "base_uri": "https://localhost:8080/"
        }
      },
      "outputs": [
        {
          "output_type": "stream",
          "name": "stdout",
          "text": [
            "The    DET DT\n",
            "spacy    NOUN NN\n",
            "library    NOUN NN\n",
            "is    AUX VBZ\n",
            "useful    ADJ JJ\n",
            "for    ADP IN\n",
            "NLP    PROPN NNP\n",
            "tasks    NOUN NNS\n"
          ]
        }
      ],
      "source": [
        "for word in doc1:\n",
        "    print(word.text, '  ', word.pos_, word.tag_)"
      ]
    },
    {
      "cell_type": "code",
      "execution_count": 24,
      "id": "67f25b76",
      "metadata": {
        "id": "67f25b76",
        "outputId": "3d084080-3378-4508-fbbb-dfcfcff3994b",
        "colab": {
          "base_uri": "https://localhost:8080/",
          "height": 36
        }
      },
      "outputs": [
        {
          "output_type": "execute_result",
          "data": {
            "text/plain": [
              "'determiner'"
            ],
            "application/vnd.google.colaboratory.intrinsic+json": {
              "type": "string"
            }
          },
          "metadata": {},
          "execution_count": 24
        }
      ],
      "source": [
        "spacy.explain('DET')"
      ]
    },
    {
      "cell_type": "code",
      "execution_count": 25,
      "id": "560bf500",
      "metadata": {
        "id": "560bf500",
        "outputId": "da959216-48d4-4b32-d56a-926f65f1da36",
        "colab": {
          "base_uri": "https://localhost:8080/",
          "height": 36
        }
      },
      "outputs": [
        {
          "output_type": "execute_result",
          "data": {
            "text/plain": [
              "'auxiliary'"
            ],
            "application/vnd.google.colaboratory.intrinsic+json": {
              "type": "string"
            }
          },
          "metadata": {},
          "execution_count": 25
        }
      ],
      "source": [
        "spacy.explain('AUX')"
      ]
    },
    {
      "cell_type": "code",
      "execution_count": 26,
      "id": "3b465a16",
      "metadata": {
        "id": "3b465a16",
        "outputId": "4cfe63c5-3f2a-4239-eb5f-10ddcb191ec5",
        "colab": {
          "base_uri": "https://localhost:8080/",
          "height": 36
        }
      },
      "outputs": [
        {
          "output_type": "execute_result",
          "data": {
            "text/plain": [
              "'proper noun'"
            ],
            "application/vnd.google.colaboratory.intrinsic+json": {
              "type": "string"
            }
          },
          "metadata": {},
          "execution_count": 26
        }
      ],
      "source": [
        "spacy.explain('PROPN')"
      ]
    },
    {
      "cell_type": "code",
      "execution_count": 27,
      "id": "0abb0595",
      "metadata": {
        "id": "0abb0595",
        "outputId": "9a732a07-15eb-4068-97b4-4fed14999596",
        "colab": {
          "base_uri": "https://localhost:8080/",
          "height": 36
        }
      },
      "outputs": [
        {
          "output_type": "execute_result",
          "data": {
            "text/plain": [
              "'noun, singular or mass'"
            ],
            "application/vnd.google.colaboratory.intrinsic+json": {
              "type": "string"
            }
          },
          "metadata": {},
          "execution_count": 27
        }
      ],
      "source": [
        "spacy.explain('NN')"
      ]
    },
    {
      "cell_type": "code",
      "execution_count": 28,
      "id": "081d7b25",
      "metadata": {
        "id": "081d7b25",
        "outputId": "59970afc-7008-47a1-f7bc-6f2a30708b73",
        "colab": {
          "base_uri": "https://localhost:8080/",
          "height": 36
        }
      },
      "outputs": [
        {
          "output_type": "execute_result",
          "data": {
            "text/plain": [
              "'noun, proper singular'"
            ],
            "application/vnd.google.colaboratory.intrinsic+json": {
              "type": "string"
            }
          },
          "metadata": {},
          "execution_count": 28
        }
      ],
      "source": [
        "spacy.explain('NNP')"
      ]
    },
    {
      "cell_type": "code",
      "execution_count": 29,
      "id": "92e3827f",
      "metadata": {
        "id": "92e3827f",
        "outputId": "00f60f69-a7bf-4ac6-e15e-eaca42eb700f",
        "colab": {
          "base_uri": "https://localhost:8080/"
        }
      },
      "outputs": [
        {
          "output_type": "execute_result",
          "data": {
            "text/plain": [
              "The spacy library is useful for NLP tasks"
            ]
          },
          "metadata": {},
          "execution_count": 29
        }
      ],
      "source": [
        "doc1"
      ]
    },
    {
      "cell_type": "code",
      "execution_count": 30,
      "id": "46251300",
      "metadata": {
        "id": "46251300",
        "outputId": "d0e959f2-72c0-4d87-fdf9-f847a0dc199f",
        "colab": {
          "base_uri": "https://localhost:8080/"
        }
      },
      "outputs": [
        {
          "output_type": "execute_result",
          "data": {
            "text/plain": [
              "[('The', 'DT'),\n",
              " ('spacy', 'NN'),\n",
              " ('library', 'NN'),\n",
              " ('is', 'VBZ'),\n",
              " ('useful', 'JJ'),\n",
              " ('for', 'IN'),\n",
              " ('NLP', 'NNP'),\n",
              " ('tasks', 'NNS')]"
            ]
          },
          "metadata": {},
          "execution_count": 30
        }
      ],
      "source": [
        "pos_tagged_words = [(word.text, word.tag_) for word in doc1]\n",
        "pos_tagged_words"
      ]
    },
    {
      "cell_type": "code",
      "execution_count": 31,
      "id": "3c0d0921",
      "metadata": {
        "id": "3c0d0921",
        "outputId": "ae567c2c-3930-4fc4-871f-a2f22f8e1ea4",
        "colab": {
          "base_uri": "https://localhost:8080/"
        }
      },
      "outputs": [
        {
          "output_type": "execute_result",
          "data": {
            "text/plain": [
              "[('The', 'DET', 'DT'),\n",
              " ('spacy', 'NOUN', 'NN'),\n",
              " ('library', 'NOUN', 'NN'),\n",
              " ('is', 'AUX', 'VBZ'),\n",
              " ('useful', 'ADJ', 'JJ'),\n",
              " ('for', 'ADP', 'IN'),\n",
              " ('NLP', 'PROPN', 'NNP'),\n",
              " ('tasks', 'NOUN', 'NNS')]"
            ]
          },
          "metadata": {},
          "execution_count": 31
        }
      ],
      "source": [
        "pos_tagged_words = [(word.text,word.pos_, word.tag_) for word in doc1]\n",
        "pos_tagged_words"
      ]
    },
    {
      "cell_type": "markdown",
      "id": "2e8d29e3",
      "metadata": {
        "id": "2e8d29e3"
      },
      "source": [
        "## Visual dependency using displacy"
      ]
    },
    {
      "cell_type": "code",
      "execution_count": 32,
      "id": "b93a8eee",
      "metadata": {
        "id": "b93a8eee"
      },
      "outputs": [],
      "source": [
        "from spacy import displacy"
      ]
    },
    {
      "cell_type": "code",
      "execution_count": 33,
      "id": "a18b9f9f",
      "metadata": {
        "id": "a18b9f9f",
        "outputId": "b4bff5b2-baa5-4d7f-a74b-48385cac2518",
        "colab": {
          "base_uri": "https://localhost:8080/",
          "height": 333
        }
      },
      "outputs": [
        {
          "output_type": "display_data",
          "data": {
            "text/plain": [
              "<IPython.core.display.HTML object>"
            ],
            "text/html": [
              "<span class=\"tex2jax_ignore\"><svg xmlns=\"http://www.w3.org/2000/svg\" xmlns:xlink=\"http://www.w3.org/1999/xlink\" xml:lang=\"en\" id=\"55e65e8d9b2c4b85a090a61371cc6cc5-0\" class=\"displacy\" width=\"750\" height=\"312.0\" direction=\"ltr\" style=\"max-width: none; height: 312.0px; color: #000000; background: #ffffff; font-family: Arial; direction: ltr\">\n",
              "<text class=\"displacy-token\" fill=\"currentColor\" text-anchor=\"middle\" y=\"222.0\">\n",
              "    <tspan class=\"displacy-word\" fill=\"currentColor\" x=\"50\">We</tspan>\n",
              "    <tspan class=\"displacy-tag\" dy=\"2em\" fill=\"currentColor\" x=\"50\">PRON</tspan>\n",
              "</text>\n",
              "\n",
              "<text class=\"displacy-token\" fill=\"currentColor\" text-anchor=\"middle\" y=\"222.0\">\n",
              "    <tspan class=\"displacy-word\" fill=\"currentColor\" x=\"225\">are</tspan>\n",
              "    <tspan class=\"displacy-tag\" dy=\"2em\" fill=\"currentColor\" x=\"225\">AUX</tspan>\n",
              "</text>\n",
              "\n",
              "<text class=\"displacy-token\" fill=\"currentColor\" text-anchor=\"middle\" y=\"222.0\">\n",
              "    <tspan class=\"displacy-word\" fill=\"currentColor\" x=\"400\">learning</tspan>\n",
              "    <tspan class=\"displacy-tag\" dy=\"2em\" fill=\"currentColor\" x=\"400\">VERB</tspan>\n",
              "</text>\n",
              "\n",
              "<text class=\"displacy-token\" fill=\"currentColor\" text-anchor=\"middle\" y=\"222.0\">\n",
              "    <tspan class=\"displacy-word\" fill=\"currentColor\" x=\"575\">spacy</tspan>\n",
              "    <tspan class=\"displacy-tag\" dy=\"2em\" fill=\"currentColor\" x=\"575\">NOUN</tspan>\n",
              "</text>\n",
              "\n",
              "<g class=\"displacy-arrow\">\n",
              "    <path class=\"displacy-arc\" id=\"arrow-55e65e8d9b2c4b85a090a61371cc6cc5-0-0\" stroke-width=\"2px\" d=\"M70,177.0 C70,2.0 400.0,2.0 400.0,177.0\" fill=\"none\" stroke=\"currentColor\"/>\n",
              "    <text dy=\"1.25em\" style=\"font-size: 0.8em; letter-spacing: 1px\">\n",
              "        <textPath xlink:href=\"#arrow-55e65e8d9b2c4b85a090a61371cc6cc5-0-0\" class=\"displacy-label\" startOffset=\"50%\" side=\"left\" fill=\"currentColor\" text-anchor=\"middle\">nsubj</textPath>\n",
              "    </text>\n",
              "    <path class=\"displacy-arrowhead\" d=\"M70,179.0 L62,167.0 78,167.0\" fill=\"currentColor\"/>\n",
              "</g>\n",
              "\n",
              "<g class=\"displacy-arrow\">\n",
              "    <path class=\"displacy-arc\" id=\"arrow-55e65e8d9b2c4b85a090a61371cc6cc5-0-1\" stroke-width=\"2px\" d=\"M245,177.0 C245,89.5 395.0,89.5 395.0,177.0\" fill=\"none\" stroke=\"currentColor\"/>\n",
              "    <text dy=\"1.25em\" style=\"font-size: 0.8em; letter-spacing: 1px\">\n",
              "        <textPath xlink:href=\"#arrow-55e65e8d9b2c4b85a090a61371cc6cc5-0-1\" class=\"displacy-label\" startOffset=\"50%\" side=\"left\" fill=\"currentColor\" text-anchor=\"middle\">aux</textPath>\n",
              "    </text>\n",
              "    <path class=\"displacy-arrowhead\" d=\"M245,179.0 L237,167.0 253,167.0\" fill=\"currentColor\"/>\n",
              "</g>\n",
              "\n",
              "<g class=\"displacy-arrow\">\n",
              "    <path class=\"displacy-arc\" id=\"arrow-55e65e8d9b2c4b85a090a61371cc6cc5-0-2\" stroke-width=\"2px\" d=\"M420,177.0 C420,89.5 570.0,89.5 570.0,177.0\" fill=\"none\" stroke=\"currentColor\"/>\n",
              "    <text dy=\"1.25em\" style=\"font-size: 0.8em; letter-spacing: 1px\">\n",
              "        <textPath xlink:href=\"#arrow-55e65e8d9b2c4b85a090a61371cc6cc5-0-2\" class=\"displacy-label\" startOffset=\"50%\" side=\"left\" fill=\"currentColor\" text-anchor=\"middle\">dobj</textPath>\n",
              "    </text>\n",
              "    <path class=\"displacy-arrowhead\" d=\"M570.0,179.0 L578.0,167.0 562.0,167.0\" fill=\"currentColor\"/>\n",
              "</g>\n",
              "</svg></span>"
            ]
          },
          "metadata": {}
        }
      ],
      "source": [
        "doc1 = nlp('We are learning spacy')\n",
        "displacy.render(doc1, style = 'dep', jupyter = True)"
      ]
    },
    {
      "cell_type": "code",
      "execution_count": 34,
      "id": "f5e72f5d",
      "metadata": {
        "id": "f5e72f5d",
        "outputId": "1ec4a194-f2a5-46a8-b67d-05caee71b3a9",
        "colab": {
          "base_uri": "https://localhost:8080/",
          "height": 36
        }
      },
      "outputs": [
        {
          "output_type": "execute_result",
          "data": {
            "text/plain": [
              "'nominal subject'"
            ],
            "application/vnd.google.colaboratory.intrinsic+json": {
              "type": "string"
            }
          },
          "metadata": {},
          "execution_count": 34
        }
      ],
      "source": [
        "spacy.explain('nsubj')"
      ]
    },
    {
      "cell_type": "code",
      "execution_count": 35,
      "id": "877c37b5",
      "metadata": {
        "id": "877c37b5",
        "outputId": "95bbe6a1-500b-443d-aee4-ca5e05af5ae2",
        "colab": {
          "base_uri": "https://localhost:8080/",
          "height": 36
        }
      },
      "outputs": [
        {
          "output_type": "execute_result",
          "data": {
            "text/plain": [
              "'direct object'"
            ],
            "application/vnd.google.colaboratory.intrinsic+json": {
              "type": "string"
            }
          },
          "metadata": {},
          "execution_count": 35
        }
      ],
      "source": [
        "spacy.explain('dobj')"
      ]
    },
    {
      "cell_type": "code",
      "execution_count": 36,
      "id": "a33e6b0b",
      "metadata": {
        "id": "a33e6b0b",
        "outputId": "4e79aeef-a83c-4398-ab4b-bb70d5db7e70",
        "colab": {
          "base_uri": "https://localhost:8080/",
          "height": 441
        }
      },
      "outputs": [
        {
          "output_type": "display_data",
          "data": {
            "text/plain": [
              "<IPython.core.display.HTML object>"
            ],
            "text/html": [
              "<span class=\"tex2jax_ignore\"><svg xmlns=\"http://www.w3.org/2000/svg\" xmlns:xlink=\"http://www.w3.org/1999/xlink\" xml:lang=\"en\" id=\"4c628ce8b7e94f72b03dd6d6a5649b35-0\" class=\"displacy\" width=\"1800\" height=\"399.5\" direction=\"ltr\" style=\"max-width: none; height: 399.5px; color: #000000; background: #ffffff; font-family: Arial; direction: ltr\">\n",
              "<text class=\"displacy-token\" fill=\"currentColor\" text-anchor=\"middle\" y=\"309.5\">\n",
              "    <tspan class=\"displacy-word\" fill=\"currentColor\" x=\"50\">Seems</tspan>\n",
              "    <tspan class=\"displacy-tag\" dy=\"2em\" fill=\"currentColor\" x=\"50\">VERB</tspan>\n",
              "</text>\n",
              "\n",
              "<text class=\"displacy-token\" fill=\"currentColor\" text-anchor=\"middle\" y=\"309.5\">\n",
              "    <tspan class=\"displacy-word\" fill=\"currentColor\" x=\"225\">like</tspan>\n",
              "    <tspan class=\"displacy-tag\" dy=\"2em\" fill=\"currentColor\" x=\"225\">ADP</tspan>\n",
              "</text>\n",
              "\n",
              "<text class=\"displacy-token\" fill=\"currentColor\" text-anchor=\"middle\" y=\"309.5\">\n",
              "    <tspan class=\"displacy-word\" fill=\"currentColor\" x=\"400\">a</tspan>\n",
              "    <tspan class=\"displacy-tag\" dy=\"2em\" fill=\"currentColor\" x=\"400\">DET</tspan>\n",
              "</text>\n",
              "\n",
              "<text class=\"displacy-token\" fill=\"currentColor\" text-anchor=\"middle\" y=\"309.5\">\n",
              "    <tspan class=\"displacy-word\" fill=\"currentColor\" x=\"575\">grammer</tspan>\n",
              "    <tspan class=\"displacy-tag\" dy=\"2em\" fill=\"currentColor\" x=\"575\">NOUN</tspan>\n",
              "</text>\n",
              "\n",
              "<text class=\"displacy-token\" fill=\"currentColor\" text-anchor=\"middle\" y=\"309.5\">\n",
              "    <tspan class=\"displacy-word\" fill=\"currentColor\" x=\"750\">revision</tspan>\n",
              "    <tspan class=\"displacy-tag\" dy=\"2em\" fill=\"currentColor\" x=\"750\">NOUN</tspan>\n",
              "</text>\n",
              "\n",
              "<text class=\"displacy-token\" fill=\"currentColor\" text-anchor=\"middle\" y=\"309.5\">\n",
              "    <tspan class=\"displacy-word\" fill=\"currentColor\" x=\"925\">is</tspan>\n",
              "    <tspan class=\"displacy-tag\" dy=\"2em\" fill=\"currentColor\" x=\"925\">AUX</tspan>\n",
              "</text>\n",
              "\n",
              "<text class=\"displacy-token\" fill=\"currentColor\" text-anchor=\"middle\" y=\"309.5\">\n",
              "    <tspan class=\"displacy-word\" fill=\"currentColor\" x=\"1100\">required</tspan>\n",
              "    <tspan class=\"displacy-tag\" dy=\"2em\" fill=\"currentColor\" x=\"1100\">VERB</tspan>\n",
              "</text>\n",
              "\n",
              "<text class=\"displacy-token\" fill=\"currentColor\" text-anchor=\"middle\" y=\"309.5\">\n",
              "    <tspan class=\"displacy-word\" fill=\"currentColor\" x=\"1275\">to</tspan>\n",
              "    <tspan class=\"displacy-tag\" dy=\"2em\" fill=\"currentColor\" x=\"1275\">PART</tspan>\n",
              "</text>\n",
              "\n",
              "<text class=\"displacy-token\" fill=\"currentColor\" text-anchor=\"middle\" y=\"309.5\">\n",
              "    <tspan class=\"displacy-word\" fill=\"currentColor\" x=\"1450\">learn</tspan>\n",
              "    <tspan class=\"displacy-tag\" dy=\"2em\" fill=\"currentColor\" x=\"1450\">VERB</tspan>\n",
              "</text>\n",
              "\n",
              "<text class=\"displacy-token\" fill=\"currentColor\" text-anchor=\"middle\" y=\"309.5\">\n",
              "    <tspan class=\"displacy-word\" fill=\"currentColor\" x=\"1625\">NLP</tspan>\n",
              "    <tspan class=\"displacy-tag\" dy=\"2em\" fill=\"currentColor\" x=\"1625\">PROPN</tspan>\n",
              "</text>\n",
              "\n",
              "<g class=\"displacy-arrow\">\n",
              "    <path class=\"displacy-arc\" id=\"arrow-4c628ce8b7e94f72b03dd6d6a5649b35-0-0\" stroke-width=\"2px\" d=\"M70,264.5 C70,177.0 215.0,177.0 215.0,264.5\" fill=\"none\" stroke=\"currentColor\"/>\n",
              "    <text dy=\"1.25em\" style=\"font-size: 0.8em; letter-spacing: 1px\">\n",
              "        <textPath xlink:href=\"#arrow-4c628ce8b7e94f72b03dd6d6a5649b35-0-0\" class=\"displacy-label\" startOffset=\"50%\" side=\"left\" fill=\"currentColor\" text-anchor=\"middle\">prep</textPath>\n",
              "    </text>\n",
              "    <path class=\"displacy-arrowhead\" d=\"M215.0,266.5 L223.0,254.5 207.0,254.5\" fill=\"currentColor\"/>\n",
              "</g>\n",
              "\n",
              "<g class=\"displacy-arrow\">\n",
              "    <path class=\"displacy-arc\" id=\"arrow-4c628ce8b7e94f72b03dd6d6a5649b35-0-1\" stroke-width=\"2px\" d=\"M420,264.5 C420,89.5 745.0,89.5 745.0,264.5\" fill=\"none\" stroke=\"currentColor\"/>\n",
              "    <text dy=\"1.25em\" style=\"font-size: 0.8em; letter-spacing: 1px\">\n",
              "        <textPath xlink:href=\"#arrow-4c628ce8b7e94f72b03dd6d6a5649b35-0-1\" class=\"displacy-label\" startOffset=\"50%\" side=\"left\" fill=\"currentColor\" text-anchor=\"middle\">det</textPath>\n",
              "    </text>\n",
              "    <path class=\"displacy-arrowhead\" d=\"M420,266.5 L412,254.5 428,254.5\" fill=\"currentColor\"/>\n",
              "</g>\n",
              "\n",
              "<g class=\"displacy-arrow\">\n",
              "    <path class=\"displacy-arc\" id=\"arrow-4c628ce8b7e94f72b03dd6d6a5649b35-0-2\" stroke-width=\"2px\" d=\"M595,264.5 C595,177.0 740.0,177.0 740.0,264.5\" fill=\"none\" stroke=\"currentColor\"/>\n",
              "    <text dy=\"1.25em\" style=\"font-size: 0.8em; letter-spacing: 1px\">\n",
              "        <textPath xlink:href=\"#arrow-4c628ce8b7e94f72b03dd6d6a5649b35-0-2\" class=\"displacy-label\" startOffset=\"50%\" side=\"left\" fill=\"currentColor\" text-anchor=\"middle\">compound</textPath>\n",
              "    </text>\n",
              "    <path class=\"displacy-arrowhead\" d=\"M595,266.5 L587,254.5 603,254.5\" fill=\"currentColor\"/>\n",
              "</g>\n",
              "\n",
              "<g class=\"displacy-arrow\">\n",
              "    <path class=\"displacy-arc\" id=\"arrow-4c628ce8b7e94f72b03dd6d6a5649b35-0-3\" stroke-width=\"2px\" d=\"M770,264.5 C770,89.5 1095.0,89.5 1095.0,264.5\" fill=\"none\" stroke=\"currentColor\"/>\n",
              "    <text dy=\"1.25em\" style=\"font-size: 0.8em; letter-spacing: 1px\">\n",
              "        <textPath xlink:href=\"#arrow-4c628ce8b7e94f72b03dd6d6a5649b35-0-3\" class=\"displacy-label\" startOffset=\"50%\" side=\"left\" fill=\"currentColor\" text-anchor=\"middle\">nsubjpass</textPath>\n",
              "    </text>\n",
              "    <path class=\"displacy-arrowhead\" d=\"M770,266.5 L762,254.5 778,254.5\" fill=\"currentColor\"/>\n",
              "</g>\n",
              "\n",
              "<g class=\"displacy-arrow\">\n",
              "    <path class=\"displacy-arc\" id=\"arrow-4c628ce8b7e94f72b03dd6d6a5649b35-0-4\" stroke-width=\"2px\" d=\"M945,264.5 C945,177.0 1090.0,177.0 1090.0,264.5\" fill=\"none\" stroke=\"currentColor\"/>\n",
              "    <text dy=\"1.25em\" style=\"font-size: 0.8em; letter-spacing: 1px\">\n",
              "        <textPath xlink:href=\"#arrow-4c628ce8b7e94f72b03dd6d6a5649b35-0-4\" class=\"displacy-label\" startOffset=\"50%\" side=\"left\" fill=\"currentColor\" text-anchor=\"middle\">auxpass</textPath>\n",
              "    </text>\n",
              "    <path class=\"displacy-arrowhead\" d=\"M945,266.5 L937,254.5 953,254.5\" fill=\"currentColor\"/>\n",
              "</g>\n",
              "\n",
              "<g class=\"displacy-arrow\">\n",
              "    <path class=\"displacy-arc\" id=\"arrow-4c628ce8b7e94f72b03dd6d6a5649b35-0-5\" stroke-width=\"2px\" d=\"M70,264.5 C70,2.0 1100.0,2.0 1100.0,264.5\" fill=\"none\" stroke=\"currentColor\"/>\n",
              "    <text dy=\"1.25em\" style=\"font-size: 0.8em; letter-spacing: 1px\">\n",
              "        <textPath xlink:href=\"#arrow-4c628ce8b7e94f72b03dd6d6a5649b35-0-5\" class=\"displacy-label\" startOffset=\"50%\" side=\"left\" fill=\"currentColor\" text-anchor=\"middle\">ccomp</textPath>\n",
              "    </text>\n",
              "    <path class=\"displacy-arrowhead\" d=\"M1100.0,266.5 L1108.0,254.5 1092.0,254.5\" fill=\"currentColor\"/>\n",
              "</g>\n",
              "\n",
              "<g class=\"displacy-arrow\">\n",
              "    <path class=\"displacy-arc\" id=\"arrow-4c628ce8b7e94f72b03dd6d6a5649b35-0-6\" stroke-width=\"2px\" d=\"M1295,264.5 C1295,177.0 1440.0,177.0 1440.0,264.5\" fill=\"none\" stroke=\"currentColor\"/>\n",
              "    <text dy=\"1.25em\" style=\"font-size: 0.8em; letter-spacing: 1px\">\n",
              "        <textPath xlink:href=\"#arrow-4c628ce8b7e94f72b03dd6d6a5649b35-0-6\" class=\"displacy-label\" startOffset=\"50%\" side=\"left\" fill=\"currentColor\" text-anchor=\"middle\">aux</textPath>\n",
              "    </text>\n",
              "    <path class=\"displacy-arrowhead\" d=\"M1295,266.5 L1287,254.5 1303,254.5\" fill=\"currentColor\"/>\n",
              "</g>\n",
              "\n",
              "<g class=\"displacy-arrow\">\n",
              "    <path class=\"displacy-arc\" id=\"arrow-4c628ce8b7e94f72b03dd6d6a5649b35-0-7\" stroke-width=\"2px\" d=\"M1120,264.5 C1120,89.5 1445.0,89.5 1445.0,264.5\" fill=\"none\" stroke=\"currentColor\"/>\n",
              "    <text dy=\"1.25em\" style=\"font-size: 0.8em; letter-spacing: 1px\">\n",
              "        <textPath xlink:href=\"#arrow-4c628ce8b7e94f72b03dd6d6a5649b35-0-7\" class=\"displacy-label\" startOffset=\"50%\" side=\"left\" fill=\"currentColor\" text-anchor=\"middle\">xcomp</textPath>\n",
              "    </text>\n",
              "    <path class=\"displacy-arrowhead\" d=\"M1445.0,266.5 L1453.0,254.5 1437.0,254.5\" fill=\"currentColor\"/>\n",
              "</g>\n",
              "\n",
              "<g class=\"displacy-arrow\">\n",
              "    <path class=\"displacy-arc\" id=\"arrow-4c628ce8b7e94f72b03dd6d6a5649b35-0-8\" stroke-width=\"2px\" d=\"M1470,264.5 C1470,177.0 1615.0,177.0 1615.0,264.5\" fill=\"none\" stroke=\"currentColor\"/>\n",
              "    <text dy=\"1.25em\" style=\"font-size: 0.8em; letter-spacing: 1px\">\n",
              "        <textPath xlink:href=\"#arrow-4c628ce8b7e94f72b03dd6d6a5649b35-0-8\" class=\"displacy-label\" startOffset=\"50%\" side=\"left\" fill=\"currentColor\" text-anchor=\"middle\">dobj</textPath>\n",
              "    </text>\n",
              "    <path class=\"displacy-arrowhead\" d=\"M1615.0,266.5 L1623.0,254.5 1607.0,254.5\" fill=\"currentColor\"/>\n",
              "</g>\n",
              "</svg></span>"
            ]
          },
          "metadata": {}
        }
      ],
      "source": [
        "doc2 = nlp('Seems like a grammer revision is required to learn NLP')\n",
        "displacy.render(doc2, style = 'dep', jupyter = True)"
      ]
    },
    {
      "cell_type": "code",
      "execution_count": 37,
      "id": "a44f1146",
      "metadata": {
        "id": "a44f1146",
        "outputId": "42479e53-8fcd-4447-85ac-fdca44cc2f9d",
        "colab": {
          "base_uri": "https://localhost:8080/",
          "height": 36
        }
      },
      "outputs": [
        {
          "output_type": "execute_result",
          "data": {
            "text/plain": [
              "'nominal subject (passive)'"
            ],
            "application/vnd.google.colaboratory.intrinsic+json": {
              "type": "string"
            }
          },
          "metadata": {},
          "execution_count": 37
        }
      ],
      "source": [
        "spacy.explain('nsubjpass')"
      ]
    },
    {
      "cell_type": "markdown",
      "id": "e3aec230",
      "metadata": {
        "id": "e3aec230"
      },
      "source": [
        "## Lemmatization"
      ]
    },
    {
      "cell_type": "code",
      "execution_count": 38,
      "id": "560b71e5",
      "metadata": {
        "id": "560b71e5",
        "outputId": "37fe5d69-436e-476c-a6b1-0e0b4cb9b6d3",
        "colab": {
          "base_uri": "https://localhost:8080/"
        }
      },
      "outputs": [
        {
          "output_type": "execute_result",
          "data": {
            "text/plain": [
              "I am learning spacy i have learned nlp and i am a good learner"
            ]
          },
          "metadata": {},
          "execution_count": 38
        }
      ],
      "source": [
        "doc1 = nlp('I am learning spacy i have learned nlp and i am a good learner')\n",
        "doc1"
      ]
    },
    {
      "cell_type": "code",
      "execution_count": 39,
      "id": "69229064",
      "metadata": {
        "id": "69229064",
        "outputId": "533614a6-090a-4ae7-e2d4-5a193a84e399",
        "colab": {
          "base_uri": "https://localhost:8080/"
        }
      },
      "outputs": [
        {
          "output_type": "stream",
          "name": "stdout",
          "text": [
            "I     I\n",
            "am     be\n",
            "learning     learn\n",
            "spacy     spacy\n",
            "i     I\n",
            "have     have\n",
            "learned     learn\n",
            "nlp     nlp\n",
            "and     and\n",
            "i     I\n",
            "am     be\n",
            "a     a\n",
            "good     good\n",
            "learner     learner\n"
          ]
        }
      ],
      "source": [
        "for word in doc1:\n",
        "    print(word.text,'   ', word.lemma_)"
      ]
    },
    {
      "cell_type": "markdown",
      "id": "188ee863",
      "metadata": {
        "id": "188ee863"
      },
      "source": [
        "## Named Entity Recognition"
      ]
    },
    {
      "cell_type": "code",
      "execution_count": 40,
      "id": "3f4c57ec",
      "metadata": {
        "id": "3f4c57ec",
        "outputId": "f533e392-9ef6-436c-c6ff-666655accc9d",
        "colab": {
          "base_uri": "https://localhost:8080/"
        }
      },
      "outputs": [
        {
          "output_type": "execute_result",
          "data": {
            "text/plain": [
              "By 2030, India will grow so much in Technical field and become more than a trillion dollar industry"
            ]
          },
          "metadata": {},
          "execution_count": 40
        }
      ],
      "source": [
        "doc1 = nlp('By 2030, India will grow so much in Technical field and become more than a trillion dollar industry')\n",
        "doc1"
      ]
    },
    {
      "cell_type": "code",
      "execution_count": 41,
      "id": "d92a0741",
      "metadata": {
        "id": "d92a0741",
        "outputId": "5daea7a9-9d65-49d8-95f8-5b82d69cdbad",
        "colab": {
          "base_uri": "https://localhost:8080/"
        }
      },
      "outputs": [
        {
          "output_type": "execute_result",
          "data": {
            "text/plain": [
              "(2030, India, Technical, more than a trillion dollar)"
            ]
          },
          "metadata": {},
          "execution_count": 41
        }
      ],
      "source": [
        "doc1.ents"
      ]
    },
    {
      "cell_type": "code",
      "execution_count": 42,
      "id": "4d1f7190",
      "metadata": {
        "id": "4d1f7190",
        "outputId": "52d3f428-7c87-4981-ca67-fb1f6fcc8c80",
        "colab": {
          "base_uri": "https://localhost:8080/"
        }
      },
      "outputs": [
        {
          "output_type": "stream",
          "name": "stdout",
          "text": [
            "2030 DATE\n",
            "India GPE\n",
            "Technical GPE\n",
            "more than a trillion dollar MONEY\n"
          ]
        }
      ],
      "source": [
        "for entity in doc1.ents:\n",
        "    print(entity.text, entity.label_)"
      ]
    },
    {
      "cell_type": "code",
      "execution_count": 43,
      "id": "75a509fc",
      "metadata": {
        "id": "75a509fc",
        "outputId": "f6d7c6fc-8841-4bb9-ef2e-f118b63c5071",
        "colab": {
          "base_uri": "https://localhost:8080/",
          "height": 36
        }
      },
      "outputs": [
        {
          "output_type": "execute_result",
          "data": {
            "text/plain": [
              "'Countries, cities, states'"
            ],
            "application/vnd.google.colaboratory.intrinsic+json": {
              "type": "string"
            }
          },
          "metadata": {},
          "execution_count": 43
        }
      ],
      "source": [
        "spacy.explain('GPE')"
      ]
    },
    {
      "cell_type": "code",
      "execution_count": 44,
      "id": "c2fda759",
      "metadata": {
        "id": "c2fda759",
        "outputId": "8e52a432-3474-44d3-f25e-46075801355b",
        "colab": {
          "base_uri": "https://localhost:8080/",
          "height": 36
        }
      },
      "outputs": [
        {
          "output_type": "execute_result",
          "data": {
            "text/plain": [
              "'Monetary values, including unit'"
            ],
            "application/vnd.google.colaboratory.intrinsic+json": {
              "type": "string"
            }
          },
          "metadata": {},
          "execution_count": 44
        }
      ],
      "source": [
        "spacy.explain('MONEY')"
      ]
    },
    {
      "cell_type": "code",
      "execution_count": 45,
      "id": "f5dacbed",
      "metadata": {
        "id": "f5dacbed",
        "outputId": "33e12525-c649-4c88-bbb1-d303e4c4416e",
        "colab": {
          "base_uri": "https://localhost:8080/",
          "height": 52
        }
      },
      "outputs": [
        {
          "output_type": "display_data",
          "data": {
            "text/plain": [
              "<IPython.core.display.HTML object>"
            ],
            "text/html": [
              "<span class=\"tex2jax_ignore\"><div class=\"entities\" style=\"line-height: 2.5; direction: ltr\">By \n",
              "<mark class=\"entity\" style=\"background: #bfe1d9; padding: 0.45em 0.6em; margin: 0 0.25em; line-height: 1; border-radius: 0.35em;\">\n",
              "    2030\n",
              "    <span style=\"font-size: 0.8em; font-weight: bold; line-height: 1; border-radius: 0.35em; vertical-align: middle; margin-left: 0.5rem\">DATE</span>\n",
              "</mark>\n",
              ", \n",
              "<mark class=\"entity\" style=\"background: #feca74; padding: 0.45em 0.6em; margin: 0 0.25em; line-height: 1; border-radius: 0.35em;\">\n",
              "    India\n",
              "    <span style=\"font-size: 0.8em; font-weight: bold; line-height: 1; border-radius: 0.35em; vertical-align: middle; margin-left: 0.5rem\">GPE</span>\n",
              "</mark>\n",
              " will grow so much in \n",
              "<mark class=\"entity\" style=\"background: #feca74; padding: 0.45em 0.6em; margin: 0 0.25em; line-height: 1; border-radius: 0.35em;\">\n",
              "    Technical\n",
              "    <span style=\"font-size: 0.8em; font-weight: bold; line-height: 1; border-radius: 0.35em; vertical-align: middle; margin-left: 0.5rem\">GPE</span>\n",
              "</mark>\n",
              " field and become \n",
              "<mark class=\"entity\" style=\"background: #e4e7d2; padding: 0.45em 0.6em; margin: 0 0.25em; line-height: 1; border-radius: 0.35em;\">\n",
              "    more than a trillion dollar\n",
              "    <span style=\"font-size: 0.8em; font-weight: bold; line-height: 1; border-radius: 0.35em; vertical-align: middle; margin-left: 0.5rem\">MONEY</span>\n",
              "</mark>\n",
              " industry</div></span>"
            ]
          },
          "metadata": {}
        }
      ],
      "source": [
        "displacy.render(doc1, style = 'ent')"
      ]
    },
    {
      "cell_type": "code",
      "execution_count": 46,
      "id": "8672233a",
      "metadata": {
        "id": "8672233a",
        "outputId": "d3fd447c-8505-411a-ded5-a3d49bbcb57a",
        "colab": {
          "base_uri": "https://localhost:8080/"
        }
      },
      "outputs": [
        {
          "output_type": "stream",
          "name": "stdout",
          "text": [
            "India GPE\n",
            "Ten thousand dollars MONEY\n"
          ]
        }
      ],
      "source": [
        "doc2 = nlp('Average salary in India is Ten thousand dollars')\n",
        "for entity in doc2.ents:\n",
        "    print(entity.text, entity.label_)"
      ]
    },
    {
      "cell_type": "code",
      "execution_count": 47,
      "id": "fbd4b138",
      "metadata": {
        "id": "fbd4b138",
        "outputId": "b39084dd-cbd4-41de-fe01-1373378a1c5f",
        "colab": {
          "base_uri": "https://localhost:8080/",
          "height": 52
        }
      },
      "outputs": [
        {
          "output_type": "display_data",
          "data": {
            "text/plain": [
              "<IPython.core.display.HTML object>"
            ],
            "text/html": [
              "<span class=\"tex2jax_ignore\"><div class=\"entities\" style=\"line-height: 2.5; direction: ltr\">Average salary in \n",
              "<mark class=\"entity\" style=\"background: #feca74; padding: 0.45em 0.6em; margin: 0 0.25em; line-height: 1; border-radius: 0.35em;\">\n",
              "    India\n",
              "    <span style=\"font-size: 0.8em; font-weight: bold; line-height: 1; border-radius: 0.35em; vertical-align: middle; margin-left: 0.5rem\">GPE</span>\n",
              "</mark>\n",
              " is \n",
              "<mark class=\"entity\" style=\"background: #e4e7d2; padding: 0.45em 0.6em; margin: 0 0.25em; line-height: 1; border-radius: 0.35em;\">\n",
              "    Ten thousand dollars\n",
              "    <span style=\"font-size: 0.8em; font-weight: bold; line-height: 1; border-radius: 0.35em; vertical-align: middle; margin-left: 0.5rem\">MONEY</span>\n",
              "</mark>\n",
              "</div></span>"
            ]
          },
          "metadata": {}
        }
      ],
      "source": [
        "displacy.render(doc2, style = 'ent')"
      ]
    },
    {
      "cell_type": "markdown",
      "id": "eb9bd69d",
      "metadata": {
        "id": "eb9bd69d"
      },
      "source": [
        "## Semantic Similarity"
      ]
    },
    {
      "cell_type": "code",
      "execution_count": 48,
      "id": "132be4aa",
      "metadata": {
        "id": "132be4aa",
        "outputId": "5df82f2f-f0e7-481d-f16f-6502ba8c7751",
        "colab": {
          "base_uri": "https://localhost:8080/"
        }
      },
      "outputs": [
        {
          "output_type": "stream",
          "name": "stderr",
          "text": [
            "<ipython-input-48-a6348c9c8ad4>:4: UserWarning: [W007] The model you're using has no word vectors loaded, so the result of the Doc.similarity method will be based on the tagger, parser and NER, which may not give useful similarity judgements. This may happen if you're using one of the small models, e.g. `en_core_web_sm`, which don't ship with word vectors and only use context-sensitive tensors. You can always add your own word vectors, or use one of the larger models instead if available.\n",
            "  word1.similarity(word2)\n"
          ]
        },
        {
          "output_type": "execute_result",
          "data": {
            "text/plain": [
              "0.7880632484117058"
            ]
          },
          "metadata": {},
          "execution_count": 48
        }
      ],
      "source": [
        "word1 = nlp('tiger')\n",
        "word2 = nlp('lion')\n",
        "\n",
        "word1.similarity(word2)"
      ]
    },
    {
      "cell_type": "code",
      "execution_count": 49,
      "id": "48661c55",
      "metadata": {
        "id": "48661c55",
        "outputId": "e99021c9-4541-4336-9633-1d58b5d40893",
        "colab": {
          "base_uri": "https://localhost:8080/"
        }
      },
      "outputs": [
        {
          "output_type": "stream",
          "name": "stderr",
          "text": [
            "<ipython-input-49-81074e93d3a4>:4: UserWarning: [W007] The model you're using has no word vectors loaded, so the result of the Doc.similarity method will be based on the tagger, parser and NER, which may not give useful similarity judgements. This may happen if you're using one of the small models, e.g. `en_core_web_sm`, which don't ship with word vectors and only use context-sensitive tensors. You can always add your own word vectors, or use one of the larger models instead if available.\n",
            "  word1.similarity(word2)\n"
          ]
        },
        {
          "output_type": "execute_result",
          "data": {
            "text/plain": [
              "0.6999042558367613"
            ]
          },
          "metadata": {},
          "execution_count": 49
        }
      ],
      "source": [
        "word1 = nlp('tiger')\n",
        "word2 = nlp('elephant')\n",
        "\n",
        "word1.similarity(word2)"
      ]
    },
    {
      "cell_type": "code",
      "execution_count": 50,
      "id": "bcdc84b2",
      "metadata": {
        "id": "bcdc84b2",
        "outputId": "32883e86-ac57-482d-dee1-e716fb89bd29",
        "colab": {
          "base_uri": "https://localhost:8080/"
        }
      },
      "outputs": [
        {
          "output_type": "stream",
          "name": "stderr",
          "text": [
            "<ipython-input-50-fbcd3f157860>:4: UserWarning: [W007] The model you're using has no word vectors loaded, so the result of the Doc.similarity method will be based on the tagger, parser and NER, which may not give useful similarity judgements. This may happen if you're using one of the small models, e.g. `en_core_web_sm`, which don't ship with word vectors and only use context-sensitive tensors. You can always add your own word vectors, or use one of the larger models instead if available.\n",
            "  word1.similarity(word2)\n"
          ]
        },
        {
          "output_type": "execute_result",
          "data": {
            "text/plain": [
              "0.5196950533150407"
            ]
          },
          "metadata": {},
          "execution_count": 50
        }
      ],
      "source": [
        "word1 = nlp('tiger')\n",
        "word2 = nlp('human')\n",
        "\n",
        "word1.similarity(word2)"
      ]
    },
    {
      "cell_type": "code",
      "execution_count": 51,
      "id": "c92a422a",
      "metadata": {
        "id": "c92a422a",
        "outputId": "dfdcb20d-fcee-4eff-df32-a4727589add2",
        "colab": {
          "base_uri": "https://localhost:8080/"
        }
      },
      "outputs": [
        {
          "output_type": "stream",
          "name": "stderr",
          "text": [
            "<ipython-input-51-79bd2c837791>:4: UserWarning: [W007] The model you're using has no word vectors loaded, so the result of the Doc.similarity method will be based on the tagger, parser and NER, which may not give useful similarity judgements. This may happen if you're using one of the small models, e.g. `en_core_web_sm`, which don't ship with word vectors and only use context-sensitive tensors. You can always add your own word vectors, or use one of the larger models instead if available.\n",
            "  word1.similarity(word2)\n"
          ]
        },
        {
          "output_type": "execute_result",
          "data": {
            "text/plain": [
              "0.8019232575675798"
            ]
          },
          "metadata": {},
          "execution_count": 51
        }
      ],
      "source": [
        "word1 = nlp('happy')\n",
        "word2 = nlp('glad')\n",
        "\n",
        "word1.similarity(word2)"
      ]
    },
    {
      "cell_type": "code",
      "execution_count": 52,
      "id": "9858f371",
      "metadata": {
        "id": "9858f371",
        "outputId": "4180bae3-93ef-4e8a-bfb0-cae2ef10fb0e",
        "colab": {
          "base_uri": "https://localhost:8080/"
        }
      },
      "outputs": [
        {
          "output_type": "stream",
          "name": "stderr",
          "text": [
            "<ipython-input-52-b87f804efc5a>:4: UserWarning: [W007] The model you're using has no word vectors loaded, so the result of the Doc.similarity method will be based on the tagger, parser and NER, which may not give useful similarity judgements. This may happen if you're using one of the small models, e.g. `en_core_web_sm`, which don't ship with word vectors and only use context-sensitive tensors. You can always add your own word vectors, or use one of the larger models instead if available.\n",
            "  word1.similarity(word2)\n"
          ]
        },
        {
          "output_type": "execute_result",
          "data": {
            "text/plain": [
              "0.6844568075923114"
            ]
          },
          "metadata": {},
          "execution_count": 52
        }
      ],
      "source": [
        "word1 = nlp('happy')\n",
        "word2 = nlp('sad')\n",
        "\n",
        "word1.similarity(word2)"
      ]
    },
    {
      "cell_type": "code",
      "execution_count": 53,
      "id": "07d43a7b",
      "metadata": {
        "id": "07d43a7b",
        "outputId": "a5bc8ebb-0308-4862-b134-560a74541e0f",
        "colab": {
          "base_uri": "https://localhost:8080/"
        }
      },
      "outputs": [
        {
          "output_type": "stream",
          "name": "stderr",
          "text": [
            "<ipython-input-53-32e4f31c9703>:4: UserWarning: [W007] The model you're using has no word vectors loaded, so the result of the Doc.similarity method will be based on the tagger, parser and NER, which may not give useful similarity judgements. This may happen if you're using one of the small models, e.g. `en_core_web_sm`, which don't ship with word vectors and only use context-sensitive tensors. You can always add your own word vectors, or use one of the larger models instead if available.\n",
            "  word1.similarity(word2)\n"
          ]
        },
        {
          "output_type": "execute_result",
          "data": {
            "text/plain": [
              "0.05400913485440256"
            ]
          },
          "metadata": {},
          "execution_count": 53
        }
      ],
      "source": [
        "word1 = nlp('happy')\n",
        "word2 = nlp('and')\n",
        "\n",
        "word1.similarity(word2)"
      ]
    },
    {
      "cell_type": "code",
      "execution_count": 54,
      "id": "25faa31f",
      "metadata": {
        "id": "25faa31f",
        "outputId": "26b69658-648b-4405-c8f3-0b2c245cda35",
        "colab": {
          "base_uri": "https://localhost:8080/"
        }
      },
      "outputs": [
        {
          "output_type": "stream",
          "name": "stderr",
          "text": [
            "<ipython-input-54-082db0191996>:4: UserWarning: [W007] The model you're using has no word vectors loaded, so the result of the Doc.similarity method will be based on the tagger, parser and NER, which may not give useful similarity judgements. This may happen if you're using one of the small models, e.g. `en_core_web_sm`, which don't ship with word vectors and only use context-sensitive tensors. You can always add your own word vectors, or use one of the larger models instead if available.\n",
            "  word1.similarity(word2)\n"
          ]
        },
        {
          "output_type": "execute_result",
          "data": {
            "text/plain": [
              "0.34029039430648006"
            ]
          },
          "metadata": {},
          "execution_count": 54
        }
      ],
      "source": [
        "word1 = nlp('happy')\n",
        "word2 = nlp('horse')\n",
        "\n",
        "word1.similarity(word2)"
      ]
    },
    {
      "cell_type": "code",
      "execution_count": 55,
      "id": "d9c5507c",
      "metadata": {
        "id": "d9c5507c",
        "outputId": "55ce02bb-b4bc-49f1-e536-5e1edf266a96",
        "colab": {
          "base_uri": "https://localhost:8080/"
        }
      },
      "outputs": [
        {
          "output_type": "stream",
          "name": "stderr",
          "text": [
            "<ipython-input-55-ff9f5dfa40ed>:4: UserWarning: [W007] The model you're using has no word vectors loaded, so the result of the Doc.similarity method will be based on the tagger, parser and NER, which may not give useful similarity judgements. This may happen if you're using one of the small models, e.g. `en_core_web_sm`, which don't ship with word vectors and only use context-sensitive tensors. You can always add your own word vectors, or use one of the larger models instead if available.\n",
            "  word1.similarity(word2)\n"
          ]
        },
        {
          "output_type": "execute_result",
          "data": {
            "text/plain": [
              "0.7947322849143847"
            ]
          },
          "metadata": {},
          "execution_count": 55
        }
      ],
      "source": [
        "word1 = nlp('tiger')\n",
        "word2 = nlp('book')\n",
        "\n",
        "word1.similarity(word2)"
      ]
    },
    {
      "cell_type": "markdown",
      "id": "87f84843",
      "metadata": {
        "id": "87f84843"
      },
      "source": [
        "## Stopwords"
      ]
    },
    {
      "cell_type": "code",
      "execution_count": 56,
      "id": "340468df",
      "metadata": {
        "id": "340468df",
        "outputId": "fbc1257b-73ba-4d6a-d81f-c523dce454e1",
        "colab": {
          "base_uri": "https://localhost:8080/"
        }
      },
      "outputs": [
        {
          "output_type": "stream",
          "name": "stdout",
          "text": [
            "{'itself', 'may', 'been', 'whether', 'mostly', 'yet', 'will', 'neither', 'nowhere', 'full', 'several', 'towards', 'using', 'thus', 'above', 'ten', 'both', 'around', 'three', 'himself', 'must', 'whoever', 'should', '’re', 'them', 'either', 'his', 'enough', 'though', 'n‘t', 'am', 'own', 'myself', 'anyway', '‘d', 'whereby', 'seem', 'everything', 'eleven', 'does', 'off', 'next', 'wherein', 'few', 'done', 'across', 'amount', 'him', 'nothing', 'empty', 'over', 'for', 'what', 'also', 'might', 'so', 'everyone', 'seems', 'who', 'almost', 'get', 'between', 'someone', 'thereafter', 'except', 'go', 'below', 'themselves', 'here', 'my', 'say', 'further', 'whither', 'and', 'twelve', 'were', 'all', 'they', 'nobody', 'became', 'less', 'anywhere', 'first', 'without', 'too', 'we', 'call', 'last', 'where', '‘s', 'much', 'nevertheless', 'take', 'us', 'elsewhere', 'do', 'about', 'than', 'something', 'twenty', 'whereas', 'made', 'some', 'whatever', 'along', 'again', 'becoming', 'being', 'beforehand', 'during', 'show', 'whole', 'whose', \"n't\", 'did', \"'ve\", 'one', 'whereupon', 'still', 'how', 'really', 'wherever', 'used', 'never', 'be', 'sometimes', 'indeed', 'besides', 'with', 'any', 'have', 'already', 'amongst', 'put', 'yourselves', 'third', 'such', 'ours', 'ever', 'make', 'throughout', 'herein', 'to', 'nor', 'others', 'move', 'hereby', 'rather', 'now', 'an', 'had', 'fifteen', 'become', 'ca', 'before', 'serious', 'cannot', \"'s\", \"'d\", 'four', 'six', 'at', 'perhaps', 'while', 'among', 'per', 'whenever', 'seeming', 'seemed', 'due', 'therefore', 'would', 'onto', 'thereupon', 'in', 'because', 'it', 'hence', 'their', 'anyhow', 'has', 'mine', 'on', 'same', 'thereby', 'its', 'afterwards', 'meanwhile', 'front', \"'re\", 'yourself', 'or', 'he', 'down', 'just', 'n’t', 'else', 'alone', 'doing', 'upon', 'thru', 'each', 'no', 'many', 'latter', 'into', 'somehow', 'forty', 'namely', 'often', '’m', 'beside', 'somewhere', 'least', 'always', 'why', 'very', 'which', 'by', 'bottom', 'quite', 'together', 'she', 'otherwise', 'herself', 'i', 'most', 'toward', 'but', 'more', '‘ll', 'there', 'please', 'hundred', 'moreover', '’ll', 'was', 'name', 'eight', 'as', 'your', '’s', 'only', 'see', 'give', 'therein', 'hereafter', 'not', 'keep', 'me', 'ourselves', 'other', 'thence', 'these', 'from', 'then', 'are', 'can', 'noone', 'out', '‘ve', 'through', \"'ll\", 'the', 'various', 'formerly', 'is', 'unless', 'hereupon', \"'m\", 'five', 'sixty', 'once', 'another', 'this', 'however', '’ve', 'when', 'of', 'hers', 'that', 'anyone', 'top', 'could', 'everywhere', 'behind', 'whence', '‘re', 're', 'although', 'you', 'side', 'our', 'well', 'part', 'under', '’d', 'within', 'since', 'after', 'beyond', 'fifty', 'her', 'if', 'nine', 'two', 'every', 'against', 'even', 'up', 'back', 'until', 'none', 'regarding', 'whereafter', '‘m', 'becomes', 'a', 'whom', 'those', 'latterly', 'former', 'yours', 'via', 'sometime', 'anything'}\n"
          ]
        }
      ],
      "source": [
        "from spacy.lang.en.stop_words import STOP_WORDS\n",
        "print(STOP_WORDS)"
      ]
    },
    {
      "cell_type": "code",
      "execution_count": 57,
      "id": "b994e78e",
      "metadata": {
        "id": "b994e78e",
        "outputId": "3119b761-7a16-4af2-8c7e-4bcdd66f8768",
        "colab": {
          "base_uri": "https://localhost:8080/"
        }
      },
      "outputs": [
        {
          "output_type": "execute_result",
          "data": {
            "text/plain": [
              "326"
            ]
          },
          "metadata": {},
          "execution_count": 57
        }
      ],
      "source": [
        "len(STOP_WORDS)"
      ]
    },
    {
      "cell_type": "code",
      "source": [
        "import nltk\n",
        "nltk.download('stopwords')"
      ],
      "metadata": {
        "colab": {
          "base_uri": "https://localhost:8080/"
        },
        "id": "9Y3tbuHVOeHp",
        "outputId": "32422b3d-e39a-456c-894d-4e5237ed29c4"
      },
      "id": "9Y3tbuHVOeHp",
      "execution_count": 59,
      "outputs": [
        {
          "output_type": "stream",
          "name": "stderr",
          "text": [
            "[nltk_data] Downloading package stopwords to /root/nltk_data...\n",
            "[nltk_data]   Unzipping corpora/stopwords.zip.\n"
          ]
        },
        {
          "output_type": "execute_result",
          "data": {
            "text/plain": [
              "True"
            ]
          },
          "metadata": {},
          "execution_count": 59
        }
      ]
    },
    {
      "cell_type": "code",
      "execution_count": 60,
      "id": "a034ac39",
      "metadata": {
        "id": "a034ac39",
        "outputId": "edc09aa3-6fed-4d4f-fb94-c529c86c92a0",
        "colab": {
          "base_uri": "https://localhost:8080/"
        }
      },
      "outputs": [
        {
          "output_type": "execute_result",
          "data": {
            "text/plain": [
              "179"
            ]
          },
          "metadata": {},
          "execution_count": 60
        }
      ],
      "source": [
        "from nltk.corpus import stopwords\n",
        "len(stopwords.words('english'))"
      ]
    },
    {
      "cell_type": "code",
      "execution_count": 60,
      "id": "7996ce26",
      "metadata": {
        "id": "7996ce26"
      },
      "outputs": [],
      "source": []
    }
  ],
  "metadata": {
    "kernelspec": {
      "display_name": "Python 3",
      "name": "python3"
    },
    "language_info": {
      "codemirror_mode": {
        "name": "ipython",
        "version": 3
      },
      "file_extension": ".py",
      "mimetype": "text/x-python",
      "name": "python",
      "nbconvert_exporter": "python",
      "pygments_lexer": "ipython3",
      "version": "3.9.7"
    },
    "colab": {
      "provenance": [],
      "gpuType": "T4",
      "include_colab_link": true
    },
    "accelerator": "GPU"
  },
  "nbformat": 4,
  "nbformat_minor": 5
}