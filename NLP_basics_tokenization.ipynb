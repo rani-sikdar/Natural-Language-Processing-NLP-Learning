{
  "nbformat": 4,
  "nbformat_minor": 0,
  "metadata": {
    "colab": {
      "provenance": [],
      "authorship_tag": "ABX9TyMSX4SD4zCvDfO5gt/lrxMW",
      "include_colab_link": true
    },
    "kernelspec": {
      "name": "python3",
      "display_name": "Python 3"
    },
    "language_info": {
      "name": "python"
    }
  },
  "cells": [
    {
      "cell_type": "markdown",
      "metadata": {
        "id": "view-in-github",
        "colab_type": "text"
      },
      "source": [
        "<a href=\"https://colab.research.google.com/github/rani-sikdar/Natural-Language-Processing-NLP-Learning/blob/main/NLP_basics_tokenization.ipynb\" target=\"_parent\"><img src=\"https://colab.research.google.com/assets/colab-badge.svg\" alt=\"Open In Colab\"/></a>"
      ]
    },
    {
      "cell_type": "code",
      "execution_count": 3,
      "metadata": {
        "colab": {
          "base_uri": "https://localhost:8080/"
        },
        "id": "37BZsxfIQ9O_",
        "outputId": "479d4715-ab19-4190-d6b1-c85cf85241ca"
      },
      "outputs": [
        {
          "output_type": "stream",
          "name": "stdout",
          "text": [
            "['The think tank of China’s People’s Liberation Army Rocket Force recently recruited 13 Chinese technicians\\n', ' from private companies, PLA Daily reported on Saturday.\\n', 'Zhang Hao and 12 other science and technology experts received letters of appointment at the founding ceremony of\\n', 'the PLA Rocket Force national defense science and technology experts panel, according to a report published by the\\n', 'PLA Daily on Saturday.\\n', 'Honored as “rocket force science and technology experts,” Zhang and his fellow experts from private companies will\\n', 'serve as members of the PLA Rocket Force think tank, which will conduct research into fields like overall design of\\n', 'the missiles, missile launching and network system technology for five years.\\n', 'The experts will enjoy the same treatment as their counterparts from State-owned firms, the report said.\\n', 'The PLA Daily said that this marks a new development in deepening military-civilian integration in China, which\\n', 'could make science and technology innovation better contribute to the enhancement of the force’s combat capabilities.']\n"
          ]
        }
      ],
      "source": [
        "text_list=[]\n",
        "with open(\"/content/sample.txt\") as file:\n",
        "  for each_line in file:\n",
        "    text_list.append(each_line)\n",
        "    # text_list = each_line.split()\n",
        "    # print(text_list)\n",
        "print(text_list)"
      ]
    },
    {
      "cell_type": "code",
      "source": [
        "text_list[0]"
      ],
      "metadata": {
        "colab": {
          "base_uri": "https://localhost:8080/",
          "height": 36
        },
        "id": "jyzDrwtuRBA9",
        "outputId": "8f2e0b2b-a80f-4610-9c48-6232099659a8"
      },
      "execution_count": 4,
      "outputs": [
        {
          "output_type": "execute_result",
          "data": {
            "text/plain": [
              "'The think tank of China’s People’s Liberation Army Rocket Force recently recruited 13 Chinese technicians\\n'"
            ],
            "application/vnd.google.colaboratory.intrinsic+json": {
              "type": "string"
            }
          },
          "metadata": {},
          "execution_count": 4
        }
      ]
    },
    {
      "cell_type": "code",
      "source": [
        "import nltk"
      ],
      "metadata": {
        "id": "tg84PtH5RBDo"
      },
      "execution_count": 5,
      "outputs": []
    },
    {
      "cell_type": "code",
      "source": [
        "nltk.download('punkt')"
      ],
      "metadata": {
        "colab": {
          "base_uri": "https://localhost:8080/"
        },
        "id": "Y1Oux8IiSA91",
        "outputId": "eef15edf-5b76-4f98-cc43-218fc9a5c0f4"
      },
      "execution_count": 8,
      "outputs": [
        {
          "output_type": "stream",
          "name": "stderr",
          "text": [
            "[nltk_data] Downloading package punkt to /root/nltk_data...\n",
            "[nltk_data]   Unzipping tokenizers/punkt.zip.\n"
          ]
        },
        {
          "output_type": "execute_result",
          "data": {
            "text/plain": [
              "True"
            ]
          },
          "metadata": {},
          "execution_count": 8
        }
      ]
    },
    {
      "cell_type": "code",
      "source": [
        "from nltk.tokenize import word_tokenize\n",
        "\n",
        "word_tokenize(text_list[0])"
      ],
      "metadata": {
        "colab": {
          "base_uri": "https://localhost:8080/"
        },
        "id": "uT8Org9gRBGO",
        "outputId": "c0abd96a-cce9-4c97-8140-5f7ec6027099"
      },
      "execution_count": 9,
      "outputs": [
        {
          "output_type": "execute_result",
          "data": {
            "text/plain": [
              "['The',\n",
              " 'think',\n",
              " 'tank',\n",
              " 'of',\n",
              " 'China',\n",
              " '’',\n",
              " 's',\n",
              " 'People',\n",
              " '’',\n",
              " 's',\n",
              " 'Liberation',\n",
              " 'Army',\n",
              " 'Rocket',\n",
              " 'Force',\n",
              " 'recently',\n",
              " 'recruited',\n",
              " '13',\n",
              " 'Chinese',\n",
              " 'technicians']"
            ]
          },
          "metadata": {},
          "execution_count": 9
        }
      ]
    },
    {
      "cell_type": "code",
      "source": [
        "# to imporve the words while tokenizing -- removing of ('s)\n",
        "from nltk.tokenize import WhitespaceTokenizer\n",
        "\n",
        "WhitespaceTokenizer().tokenize(text_list[0])"
      ],
      "metadata": {
        "colab": {
          "base_uri": "https://localhost:8080/"
        },
        "id": "PE7QYy-ITVAD",
        "outputId": "7a3ca954-e113-461d-9535-c81e5ab2f41a"
      },
      "execution_count": 18,
      "outputs": [
        {
          "output_type": "execute_result",
          "data": {
            "text/plain": [
              "['The',\n",
              " 'think',\n",
              " 'tank',\n",
              " 'of',\n",
              " 'China’s',\n",
              " 'People’s',\n",
              " 'Liberation',\n",
              " 'Army',\n",
              " 'Rocket',\n",
              " 'Force',\n",
              " 'recently',\n",
              " 'recruited',\n",
              " '13',\n",
              " 'Chinese',\n",
              " 'technicians']"
            ]
          },
          "metadata": {},
          "execution_count": 18
        }
      ]
    },
    {
      "cell_type": "code",
      "source": [
        "test_data =\"I am a NLP student. I enrolled this course. i want to beacome data scientist\""
      ],
      "metadata": {
        "id": "7r6lhaIvRBI8"
      },
      "execution_count": 12,
      "outputs": []
    },
    {
      "cell_type": "code",
      "source": [
        "from nltk.tokenize import sent_tokenize\n",
        "\n",
        "sent_tokenize(test_data)"
      ],
      "metadata": {
        "colab": {
          "base_uri": "https://localhost:8080/"
        },
        "id": "2GCgSX1uRBMe",
        "outputId": "81c3c113-66d5-44a0-c74a-872eb57875bd"
      },
      "execution_count": 13,
      "outputs": [
        {
          "output_type": "execute_result",
          "data": {
            "text/plain": [
              "['I am a NLP student.',\n",
              " 'I enrolled this course.',\n",
              " 'i want to beacome data scientist']"
            ]
          },
          "metadata": {},
          "execution_count": 13
        }
      ]
    },
    {
      "cell_type": "code",
      "source": [
        "word_tokenize(test_data)"
      ],
      "metadata": {
        "colab": {
          "base_uri": "https://localhost:8080/"
        },
        "id": "a1U17uaeSZ6N",
        "outputId": "1f3e17ce-55f2-4294-e14e-fddb821df19e"
      },
      "execution_count": 19,
      "outputs": [
        {
          "output_type": "execute_result",
          "data": {
            "text/plain": [
              "['I',\n",
              " 'am',\n",
              " 'a',\n",
              " 'NLP',\n",
              " 'student',\n",
              " '.',\n",
              " 'I',\n",
              " 'enrolled',\n",
              " 'this',\n",
              " 'course',\n",
              " '.',\n",
              " 'i',\n",
              " 'want',\n",
              " 'to',\n",
              " 'beacome',\n",
              " 'data',\n",
              " 'scientist']"
            ]
          },
          "metadata": {},
          "execution_count": 19
        }
      ]
    },
    {
      "cell_type": "code",
      "source": [
        "\n",
        "test_file = open(\"/content/sample.txt\")\n",
        "all_data = test_file.read()\n",
        "all_data"
      ],
      "metadata": {
        "colab": {
          "base_uri": "https://localhost:8080/",
          "height": 144
        },
        "id": "EiCu3k2kS4HY",
        "outputId": "65687f36-54bc-4333-bd6f-b16b406d0fab"
      },
      "execution_count": 21,
      "outputs": [
        {
          "output_type": "execute_result",
          "data": {
            "text/plain": [
              "'The think tank of China’s People’s Liberation Army Rocket Force recently recruited 13 Chinese technicians\\n from private companies, PLA Daily reported on Saturday.\\nZhang Hao and 12 other science and technology experts received letters of appointment at the founding ceremony of\\nthe PLA Rocket Force national defense science and technology experts panel, according to a report published by the\\nPLA Daily on Saturday.\\nHonored as “rocket force science and technology experts,” Zhang and his fellow experts from private companies will\\nserve as members of the PLA Rocket Force think tank, which will conduct research into fields like overall design of\\nthe missiles, missile launching and network system technology for five years.\\nThe experts will enjoy the same treatment as their counterparts from State-owned firms, the report said.\\nThe PLA Daily said that this marks a new development in deepening military-civilian integration in China, which\\ncould make science and technology innovation better contribute to the enhancement of the force’s combat capabilities.'"
            ],
            "application/vnd.google.colaboratory.intrinsic+json": {
              "type": "string"
            }
          },
          "metadata": {},
          "execution_count": 21
        }
      ]
    },
    {
      "cell_type": "code",
      "source": [
        "# list of words -- tokenize\n",
        "token = word_tokenize(all_data)\n",
        "token"
      ],
      "metadata": {
        "colab": {
          "base_uri": "https://localhost:8080/"
        },
        "id": "2p0JmTlES4KG",
        "outputId": "604913d9-62e8-4856-ac77-4b509c1e8164"
      },
      "execution_count": 23,
      "outputs": [
        {
          "output_type": "execute_result",
          "data": {
            "text/plain": [
              "['The',\n",
              " 'think',\n",
              " 'tank',\n",
              " 'of',\n",
              " 'China',\n",
              " '’',\n",
              " 's',\n",
              " 'People',\n",
              " '’',\n",
              " 's',\n",
              " 'Liberation',\n",
              " 'Army',\n",
              " 'Rocket',\n",
              " 'Force',\n",
              " 'recently',\n",
              " 'recruited',\n",
              " '13',\n",
              " 'Chinese',\n",
              " 'technicians',\n",
              " 'from',\n",
              " 'private',\n",
              " 'companies',\n",
              " ',',\n",
              " 'PLA',\n",
              " 'Daily',\n",
              " 'reported',\n",
              " 'on',\n",
              " 'Saturday',\n",
              " '.',\n",
              " 'Zhang',\n",
              " 'Hao',\n",
              " 'and',\n",
              " '12',\n",
              " 'other',\n",
              " 'science',\n",
              " 'and',\n",
              " 'technology',\n",
              " 'experts',\n",
              " 'received',\n",
              " 'letters',\n",
              " 'of',\n",
              " 'appointment',\n",
              " 'at',\n",
              " 'the',\n",
              " 'founding',\n",
              " 'ceremony',\n",
              " 'of',\n",
              " 'the',\n",
              " 'PLA',\n",
              " 'Rocket',\n",
              " 'Force',\n",
              " 'national',\n",
              " 'defense',\n",
              " 'science',\n",
              " 'and',\n",
              " 'technology',\n",
              " 'experts',\n",
              " 'panel',\n",
              " ',',\n",
              " 'according',\n",
              " 'to',\n",
              " 'a',\n",
              " 'report',\n",
              " 'published',\n",
              " 'by',\n",
              " 'the',\n",
              " 'PLA',\n",
              " 'Daily',\n",
              " 'on',\n",
              " 'Saturday',\n",
              " '.',\n",
              " 'Honored',\n",
              " 'as',\n",
              " '“',\n",
              " 'rocket',\n",
              " 'force',\n",
              " 'science',\n",
              " 'and',\n",
              " 'technology',\n",
              " 'experts',\n",
              " ',',\n",
              " '”',\n",
              " 'Zhang',\n",
              " 'and',\n",
              " 'his',\n",
              " 'fellow',\n",
              " 'experts',\n",
              " 'from',\n",
              " 'private',\n",
              " 'companies',\n",
              " 'will',\n",
              " 'serve',\n",
              " 'as',\n",
              " 'members',\n",
              " 'of',\n",
              " 'the',\n",
              " 'PLA',\n",
              " 'Rocket',\n",
              " 'Force',\n",
              " 'think',\n",
              " 'tank',\n",
              " ',',\n",
              " 'which',\n",
              " 'will',\n",
              " 'conduct',\n",
              " 'research',\n",
              " 'into',\n",
              " 'fields',\n",
              " 'like',\n",
              " 'overall',\n",
              " 'design',\n",
              " 'of',\n",
              " 'the',\n",
              " 'missiles',\n",
              " ',',\n",
              " 'missile',\n",
              " 'launching',\n",
              " 'and',\n",
              " 'network',\n",
              " 'system',\n",
              " 'technology',\n",
              " 'for',\n",
              " 'five',\n",
              " 'years',\n",
              " '.',\n",
              " 'The',\n",
              " 'experts',\n",
              " 'will',\n",
              " 'enjoy',\n",
              " 'the',\n",
              " 'same',\n",
              " 'treatment',\n",
              " 'as',\n",
              " 'their',\n",
              " 'counterparts',\n",
              " 'from',\n",
              " 'State-owned',\n",
              " 'firms',\n",
              " ',',\n",
              " 'the',\n",
              " 'report',\n",
              " 'said',\n",
              " '.',\n",
              " 'The',\n",
              " 'PLA',\n",
              " 'Daily',\n",
              " 'said',\n",
              " 'that',\n",
              " 'this',\n",
              " 'marks',\n",
              " 'a',\n",
              " 'new',\n",
              " 'development',\n",
              " 'in',\n",
              " 'deepening',\n",
              " 'military-civilian',\n",
              " 'integration',\n",
              " 'in',\n",
              " 'China',\n",
              " ',',\n",
              " 'which',\n",
              " 'could',\n",
              " 'make',\n",
              " 'science',\n",
              " 'and',\n",
              " 'technology',\n",
              " 'innovation',\n",
              " 'better',\n",
              " 'contribute',\n",
              " 'to',\n",
              " 'the',\n",
              " 'enhancement',\n",
              " 'of',\n",
              " 'the',\n",
              " 'force',\n",
              " '’',\n",
              " 's',\n",
              " 'combat',\n",
              " 'capabilities',\n",
              " '.']"
            ]
          },
          "metadata": {},
          "execution_count": 23
        }
      ]
    },
    {
      "cell_type": "code",
      "source": [
        "# tokenize with the help of whitespacetokenize\n",
        "token = WhitespaceTokenizer().tokenize(all_data)\n",
        "token"
      ],
      "metadata": {
        "colab": {
          "base_uri": "https://localhost:8080/"
        },
        "id": "dyKlpaiVS4Ms",
        "outputId": "c4b3465a-ec0b-4685-a62c-19f0e7ff93e8"
      },
      "execution_count": 25,
      "outputs": [
        {
          "output_type": "execute_result",
          "data": {
            "text/plain": [
              "['The',\n",
              " 'think',\n",
              " 'tank',\n",
              " 'of',\n",
              " 'China’s',\n",
              " 'People’s',\n",
              " 'Liberation',\n",
              " 'Army',\n",
              " 'Rocket',\n",
              " 'Force',\n",
              " 'recently',\n",
              " 'recruited',\n",
              " '13',\n",
              " 'Chinese',\n",
              " 'technicians',\n",
              " 'from',\n",
              " 'private',\n",
              " 'companies,',\n",
              " 'PLA',\n",
              " 'Daily',\n",
              " 'reported',\n",
              " 'on',\n",
              " 'Saturday.',\n",
              " 'Zhang',\n",
              " 'Hao',\n",
              " 'and',\n",
              " '12',\n",
              " 'other',\n",
              " 'science',\n",
              " 'and',\n",
              " 'technology',\n",
              " 'experts',\n",
              " 'received',\n",
              " 'letters',\n",
              " 'of',\n",
              " 'appointment',\n",
              " 'at',\n",
              " 'the',\n",
              " 'founding',\n",
              " 'ceremony',\n",
              " 'of',\n",
              " 'the',\n",
              " 'PLA',\n",
              " 'Rocket',\n",
              " 'Force',\n",
              " 'national',\n",
              " 'defense',\n",
              " 'science',\n",
              " 'and',\n",
              " 'technology',\n",
              " 'experts',\n",
              " 'panel,',\n",
              " 'according',\n",
              " 'to',\n",
              " 'a',\n",
              " 'report',\n",
              " 'published',\n",
              " 'by',\n",
              " 'the',\n",
              " 'PLA',\n",
              " 'Daily',\n",
              " 'on',\n",
              " 'Saturday.',\n",
              " 'Honored',\n",
              " 'as',\n",
              " '“rocket',\n",
              " 'force',\n",
              " 'science',\n",
              " 'and',\n",
              " 'technology',\n",
              " 'experts,”',\n",
              " 'Zhang',\n",
              " 'and',\n",
              " 'his',\n",
              " 'fellow',\n",
              " 'experts',\n",
              " 'from',\n",
              " 'private',\n",
              " 'companies',\n",
              " 'will',\n",
              " 'serve',\n",
              " 'as',\n",
              " 'members',\n",
              " 'of',\n",
              " 'the',\n",
              " 'PLA',\n",
              " 'Rocket',\n",
              " 'Force',\n",
              " 'think',\n",
              " 'tank,',\n",
              " 'which',\n",
              " 'will',\n",
              " 'conduct',\n",
              " 'research',\n",
              " 'into',\n",
              " 'fields',\n",
              " 'like',\n",
              " 'overall',\n",
              " 'design',\n",
              " 'of',\n",
              " 'the',\n",
              " 'missiles,',\n",
              " 'missile',\n",
              " 'launching',\n",
              " 'and',\n",
              " 'network',\n",
              " 'system',\n",
              " 'technology',\n",
              " 'for',\n",
              " 'five',\n",
              " 'years.',\n",
              " 'The',\n",
              " 'experts',\n",
              " 'will',\n",
              " 'enjoy',\n",
              " 'the',\n",
              " 'same',\n",
              " 'treatment',\n",
              " 'as',\n",
              " 'their',\n",
              " 'counterparts',\n",
              " 'from',\n",
              " 'State-owned',\n",
              " 'firms,',\n",
              " 'the',\n",
              " 'report',\n",
              " 'said.',\n",
              " 'The',\n",
              " 'PLA',\n",
              " 'Daily',\n",
              " 'said',\n",
              " 'that',\n",
              " 'this',\n",
              " 'marks',\n",
              " 'a',\n",
              " 'new',\n",
              " 'development',\n",
              " 'in',\n",
              " 'deepening',\n",
              " 'military-civilian',\n",
              " 'integration',\n",
              " 'in',\n",
              " 'China,',\n",
              " 'which',\n",
              " 'could',\n",
              " 'make',\n",
              " 'science',\n",
              " 'and',\n",
              " 'technology',\n",
              " 'innovation',\n",
              " 'better',\n",
              " 'contribute',\n",
              " 'to',\n",
              " 'the',\n",
              " 'enhancement',\n",
              " 'of',\n",
              " 'the',\n",
              " 'force’s',\n",
              " 'combat',\n",
              " 'capabilities.']"
            ]
          },
          "metadata": {},
          "execution_count": 25
        }
      ]
    },
    {
      "cell_type": "code",
      "source": [
        "# another type of tokenizer- tweettokenizer\n",
        "from nltk.tokenize import TweetTokenizer\n",
        "\n",
        "tweet_tokenizer = TweetTokenizer()\n",
        "tweet_tokenizer.tokenize(all_data)"
      ],
      "metadata": {
        "colab": {
          "base_uri": "https://localhost:8080/"
        },
        "id": "VRJnZJOZXA0W",
        "outputId": "0f762b9e-0094-4c90-b899-63ea1fdaf145"
      },
      "execution_count": 26,
      "outputs": [
        {
          "output_type": "execute_result",
          "data": {
            "text/plain": [
              "['The',\n",
              " 'think',\n",
              " 'tank',\n",
              " 'of',\n",
              " 'China',\n",
              " '’',\n",
              " 's',\n",
              " 'People',\n",
              " '’',\n",
              " 's',\n",
              " 'Liberation',\n",
              " 'Army',\n",
              " 'Rocket',\n",
              " 'Force',\n",
              " 'recently',\n",
              " 'recruited',\n",
              " '13',\n",
              " 'Chinese',\n",
              " 'technicians',\n",
              " 'from',\n",
              " 'private',\n",
              " 'companies',\n",
              " ',',\n",
              " 'PLA',\n",
              " 'Daily',\n",
              " 'reported',\n",
              " 'on',\n",
              " 'Saturday',\n",
              " '.',\n",
              " 'Zhang',\n",
              " 'Hao',\n",
              " 'and',\n",
              " '12',\n",
              " 'other',\n",
              " 'science',\n",
              " 'and',\n",
              " 'technology',\n",
              " 'experts',\n",
              " 'received',\n",
              " 'letters',\n",
              " 'of',\n",
              " 'appointment',\n",
              " 'at',\n",
              " 'the',\n",
              " 'founding',\n",
              " 'ceremony',\n",
              " 'of',\n",
              " 'the',\n",
              " 'PLA',\n",
              " 'Rocket',\n",
              " 'Force',\n",
              " 'national',\n",
              " 'defense',\n",
              " 'science',\n",
              " 'and',\n",
              " 'technology',\n",
              " 'experts',\n",
              " 'panel',\n",
              " ',',\n",
              " 'according',\n",
              " 'to',\n",
              " 'a',\n",
              " 'report',\n",
              " 'published',\n",
              " 'by',\n",
              " 'the',\n",
              " 'PLA',\n",
              " 'Daily',\n",
              " 'on',\n",
              " 'Saturday',\n",
              " '.',\n",
              " 'Honored',\n",
              " 'as',\n",
              " '“',\n",
              " 'rocket',\n",
              " 'force',\n",
              " 'science',\n",
              " 'and',\n",
              " 'technology',\n",
              " 'experts',\n",
              " ',',\n",
              " '”',\n",
              " 'Zhang',\n",
              " 'and',\n",
              " 'his',\n",
              " 'fellow',\n",
              " 'experts',\n",
              " 'from',\n",
              " 'private',\n",
              " 'companies',\n",
              " 'will',\n",
              " 'serve',\n",
              " 'as',\n",
              " 'members',\n",
              " 'of',\n",
              " 'the',\n",
              " 'PLA',\n",
              " 'Rocket',\n",
              " 'Force',\n",
              " 'think',\n",
              " 'tank',\n",
              " ',',\n",
              " 'which',\n",
              " 'will',\n",
              " 'conduct',\n",
              " 'research',\n",
              " 'into',\n",
              " 'fields',\n",
              " 'like',\n",
              " 'overall',\n",
              " 'design',\n",
              " 'of',\n",
              " 'the',\n",
              " 'missiles',\n",
              " ',',\n",
              " 'missile',\n",
              " 'launching',\n",
              " 'and',\n",
              " 'network',\n",
              " 'system',\n",
              " 'technology',\n",
              " 'for',\n",
              " 'five',\n",
              " 'years',\n",
              " '.',\n",
              " 'The',\n",
              " 'experts',\n",
              " 'will',\n",
              " 'enjoy',\n",
              " 'the',\n",
              " 'same',\n",
              " 'treatment',\n",
              " 'as',\n",
              " 'their',\n",
              " 'counterparts',\n",
              " 'from',\n",
              " 'State-owned',\n",
              " 'firms',\n",
              " ',',\n",
              " 'the',\n",
              " 'report',\n",
              " 'said',\n",
              " '.',\n",
              " 'The',\n",
              " 'PLA',\n",
              " 'Daily',\n",
              " 'said',\n",
              " 'that',\n",
              " 'this',\n",
              " 'marks',\n",
              " 'a',\n",
              " 'new',\n",
              " 'development',\n",
              " 'in',\n",
              " 'deepening',\n",
              " 'military-civilian',\n",
              " 'integration',\n",
              " 'in',\n",
              " 'China',\n",
              " ',',\n",
              " 'which',\n",
              " 'could',\n",
              " 'make',\n",
              " 'science',\n",
              " 'and',\n",
              " 'technology',\n",
              " 'innovation',\n",
              " 'better',\n",
              " 'contribute',\n",
              " 'to',\n",
              " 'the',\n",
              " 'enhancement',\n",
              " 'of',\n",
              " 'the',\n",
              " 'force',\n",
              " '’',\n",
              " 's',\n",
              " 'combat',\n",
              " 'capabilities',\n",
              " '.']"
            ]
          },
          "metadata": {},
          "execution_count": 26
        }
      ]
    },
    {
      "cell_type": "code",
      "source": [
        "# first tokenize\n",
        "# second remove stop words\n",
        "\n",
        "# removing of stop words---\n",
        "from nltk.probability import FreqDist\n",
        "\n",
        "FreqDist(token)\n"
      ],
      "metadata": {
        "colab": {
          "base_uri": "https://localhost:8080/"
        },
        "id": "c_InGxneS4PR",
        "outputId": "c1536135-5824-460f-8596-6d5ff5c51df4"
      },
      "execution_count": 28,
      "outputs": [
        {
          "output_type": "execute_result",
          "data": {
            "text/plain": [
              "FreqDist({'the': 9, 'and': 7, 'of': 6, 'PLA': 5, 'technology': 5, 'science': 4, 'experts': 4, 'The': 3, 'Rocket': 3, 'Force': 3, ...})"
            ]
          },
          "metadata": {},
          "execution_count": 28
        }
      ]
    },
    {
      "cell_type": "code",
      "source": [
        "FreqDist(token).most_common(3)  ## all are stop words which dont have independent meaning"
      ],
      "metadata": {
        "colab": {
          "base_uri": "https://localhost:8080/"
        },
        "id": "TxfXVM4CS4UD",
        "outputId": "55d7c153-c51e-456a-b72a-eeb8a120627c"
      },
      "execution_count": 30,
      "outputs": [
        {
          "output_type": "execute_result",
          "data": {
            "text/plain": [
              "[('the', 9), ('and', 7), ('of', 6)]"
            ]
          },
          "metadata": {},
          "execution_count": 30
        }
      ]
    },
    {
      "cell_type": "code",
      "source": [
        "# list of all stop words\n",
        "nltk.download('stopwords')\n",
        "from nltk.corpus import stopwords\n",
        "\n",
        "english_stopwords= stopwords.words('english')\n",
        "english_stopwords"
      ],
      "metadata": {
        "colab": {
          "base_uri": "https://localhost:8080/"
        },
        "id": "2FWAA--dS4Wm",
        "outputId": "ed9ec799-ba1c-4a1c-83cc-0122b6af2fe4"
      },
      "execution_count": 37,
      "outputs": [
        {
          "output_type": "stream",
          "name": "stderr",
          "text": [
            "[nltk_data] Downloading package stopwords to /root/nltk_data...\n",
            "[nltk_data]   Package stopwords is already up-to-date!\n"
          ]
        },
        {
          "output_type": "execute_result",
          "data": {
            "text/plain": [
              "['i',\n",
              " 'me',\n",
              " 'my',\n",
              " 'myself',\n",
              " 'we',\n",
              " 'our',\n",
              " 'ours',\n",
              " 'ourselves',\n",
              " 'you',\n",
              " \"you're\",\n",
              " \"you've\",\n",
              " \"you'll\",\n",
              " \"you'd\",\n",
              " 'your',\n",
              " 'yours',\n",
              " 'yourself',\n",
              " 'yourselves',\n",
              " 'he',\n",
              " 'him',\n",
              " 'his',\n",
              " 'himself',\n",
              " 'she',\n",
              " \"she's\",\n",
              " 'her',\n",
              " 'hers',\n",
              " 'herself',\n",
              " 'it',\n",
              " \"it's\",\n",
              " 'its',\n",
              " 'itself',\n",
              " 'they',\n",
              " 'them',\n",
              " 'their',\n",
              " 'theirs',\n",
              " 'themselves',\n",
              " 'what',\n",
              " 'which',\n",
              " 'who',\n",
              " 'whom',\n",
              " 'this',\n",
              " 'that',\n",
              " \"that'll\",\n",
              " 'these',\n",
              " 'those',\n",
              " 'am',\n",
              " 'is',\n",
              " 'are',\n",
              " 'was',\n",
              " 'were',\n",
              " 'be',\n",
              " 'been',\n",
              " 'being',\n",
              " 'have',\n",
              " 'has',\n",
              " 'had',\n",
              " 'having',\n",
              " 'do',\n",
              " 'does',\n",
              " 'did',\n",
              " 'doing',\n",
              " 'a',\n",
              " 'an',\n",
              " 'the',\n",
              " 'and',\n",
              " 'but',\n",
              " 'if',\n",
              " 'or',\n",
              " 'because',\n",
              " 'as',\n",
              " 'until',\n",
              " 'while',\n",
              " 'of',\n",
              " 'at',\n",
              " 'by',\n",
              " 'for',\n",
              " 'with',\n",
              " 'about',\n",
              " 'against',\n",
              " 'between',\n",
              " 'into',\n",
              " 'through',\n",
              " 'during',\n",
              " 'before',\n",
              " 'after',\n",
              " 'above',\n",
              " 'below',\n",
              " 'to',\n",
              " 'from',\n",
              " 'up',\n",
              " 'down',\n",
              " 'in',\n",
              " 'out',\n",
              " 'on',\n",
              " 'off',\n",
              " 'over',\n",
              " 'under',\n",
              " 'again',\n",
              " 'further',\n",
              " 'then',\n",
              " 'once',\n",
              " 'here',\n",
              " 'there',\n",
              " 'when',\n",
              " 'where',\n",
              " 'why',\n",
              " 'how',\n",
              " 'all',\n",
              " 'any',\n",
              " 'both',\n",
              " 'each',\n",
              " 'few',\n",
              " 'more',\n",
              " 'most',\n",
              " 'other',\n",
              " 'some',\n",
              " 'such',\n",
              " 'no',\n",
              " 'nor',\n",
              " 'not',\n",
              " 'only',\n",
              " 'own',\n",
              " 'same',\n",
              " 'so',\n",
              " 'than',\n",
              " 'too',\n",
              " 'very',\n",
              " 's',\n",
              " 't',\n",
              " 'can',\n",
              " 'will',\n",
              " 'just',\n",
              " 'don',\n",
              " \"don't\",\n",
              " 'should',\n",
              " \"should've\",\n",
              " 'now',\n",
              " 'd',\n",
              " 'll',\n",
              " 'm',\n",
              " 'o',\n",
              " 're',\n",
              " 've',\n",
              " 'y',\n",
              " 'ain',\n",
              " 'aren',\n",
              " \"aren't\",\n",
              " 'couldn',\n",
              " \"couldn't\",\n",
              " 'didn',\n",
              " \"didn't\",\n",
              " 'doesn',\n",
              " \"doesn't\",\n",
              " 'hadn',\n",
              " \"hadn't\",\n",
              " 'hasn',\n",
              " \"hasn't\",\n",
              " 'haven',\n",
              " \"haven't\",\n",
              " 'isn',\n",
              " \"isn't\",\n",
              " 'ma',\n",
              " 'mightn',\n",
              " \"mightn't\",\n",
              " 'mustn',\n",
              " \"mustn't\",\n",
              " 'needn',\n",
              " \"needn't\",\n",
              " 'shan',\n",
              " \"shan't\",\n",
              " 'shouldn',\n",
              " \"shouldn't\",\n",
              " 'wasn',\n",
              " \"wasn't\",\n",
              " 'weren',\n",
              " \"weren't\",\n",
              " 'won',\n",
              " \"won't\",\n",
              " 'wouldn',\n",
              " \"wouldn't\"]"
            ]
          },
          "metadata": {},
          "execution_count": 37
        }
      ]
    },
    {
      "cell_type": "code",
      "source": [
        "# need for download nltk modules(punkt, stopwords, ...) -- release the unnecessary data and model deolpoyment is easier"
      ],
      "metadata": {
        "id": "UYwGOm_QbFrw"
      },
      "execution_count": 39,
      "outputs": []
    },
    {
      "cell_type": "code",
      "source": [
        "len(english_stopwords)"
      ],
      "metadata": {
        "colab": {
          "base_uri": "https://localhost:8080/"
        },
        "id": "0BsqxBN9a-BV",
        "outputId": "d38153a0-c2fb-4f27-e2bb-f40129a3735e"
      },
      "execution_count": 38,
      "outputs": [
        {
          "output_type": "execute_result",
          "data": {
            "text/plain": [
              "179"
            ]
          },
          "metadata": {},
          "execution_count": 38
        }
      ]
    },
    {
      "cell_type": "code",
      "source": [
        "len(token)"
      ],
      "metadata": {
        "colab": {
          "base_uri": "https://localhost:8080/"
        },
        "id": "3BXlD2y6bB4K",
        "outputId": "6c99fdb6-fb06-461e-da22-dab2065e0dd8"
      },
      "execution_count": 40,
      "outputs": [
        {
          "output_type": "execute_result",
          "data": {
            "text/plain": [
              "160"
            ]
          },
          "metadata": {},
          "execution_count": 40
        }
      ]
    },
    {
      "cell_type": "code",
      "source": [
        "modified_token_list = [word for word in token if word.lower().strip() not in english_stopwords ]"
      ],
      "metadata": {
        "id": "eHnxsm8SS4Zo"
      },
      "execution_count": 44,
      "outputs": []
    },
    {
      "cell_type": "code",
      "source": [
        "modified_token_list"
      ],
      "metadata": {
        "colab": {
          "base_uri": "https://localhost:8080/"
        },
        "id": "IMcUhsD7S4cV",
        "outputId": "00195ac1-a4ee-4b93-dbf9-50a3379377ad"
      },
      "execution_count": 45,
      "outputs": [
        {
          "output_type": "execute_result",
          "data": {
            "text/plain": [
              "['think',\n",
              " 'tank',\n",
              " 'China’s',\n",
              " 'People’s',\n",
              " 'Liberation',\n",
              " 'Army',\n",
              " 'Rocket',\n",
              " 'Force',\n",
              " 'recently',\n",
              " 'recruited',\n",
              " '13',\n",
              " 'Chinese',\n",
              " 'technicians',\n",
              " 'private',\n",
              " 'companies,',\n",
              " 'PLA',\n",
              " 'Daily',\n",
              " 'reported',\n",
              " 'Saturday.',\n",
              " 'Zhang',\n",
              " 'Hao',\n",
              " '12',\n",
              " 'science',\n",
              " 'technology',\n",
              " 'experts',\n",
              " 'received',\n",
              " 'letters',\n",
              " 'appointment',\n",
              " 'founding',\n",
              " 'ceremony',\n",
              " 'PLA',\n",
              " 'Rocket',\n",
              " 'Force',\n",
              " 'national',\n",
              " 'defense',\n",
              " 'science',\n",
              " 'technology',\n",
              " 'experts',\n",
              " 'panel,',\n",
              " 'according',\n",
              " 'report',\n",
              " 'published',\n",
              " 'PLA',\n",
              " 'Daily',\n",
              " 'Saturday.',\n",
              " 'Honored',\n",
              " '“rocket',\n",
              " 'force',\n",
              " 'science',\n",
              " 'technology',\n",
              " 'experts,”',\n",
              " 'Zhang',\n",
              " 'fellow',\n",
              " 'experts',\n",
              " 'private',\n",
              " 'companies',\n",
              " 'serve',\n",
              " 'members',\n",
              " 'PLA',\n",
              " 'Rocket',\n",
              " 'Force',\n",
              " 'think',\n",
              " 'tank,',\n",
              " 'conduct',\n",
              " 'research',\n",
              " 'fields',\n",
              " 'like',\n",
              " 'overall',\n",
              " 'design',\n",
              " 'missiles,',\n",
              " 'missile',\n",
              " 'launching',\n",
              " 'network',\n",
              " 'system',\n",
              " 'technology',\n",
              " 'five',\n",
              " 'years.',\n",
              " 'experts',\n",
              " 'enjoy',\n",
              " 'treatment',\n",
              " 'counterparts',\n",
              " 'State-owned',\n",
              " 'firms,',\n",
              " 'report',\n",
              " 'said.',\n",
              " 'PLA',\n",
              " 'Daily',\n",
              " 'said',\n",
              " 'marks',\n",
              " 'new',\n",
              " 'development',\n",
              " 'deepening',\n",
              " 'military-civilian',\n",
              " 'integration',\n",
              " 'China,',\n",
              " 'could',\n",
              " 'make',\n",
              " 'science',\n",
              " 'technology',\n",
              " 'innovation',\n",
              " 'better',\n",
              " 'contribute',\n",
              " 'enhancement',\n",
              " 'force’s',\n",
              " 'combat',\n",
              " 'capabilities.']"
            ]
          },
          "metadata": {},
          "execution_count": 45
        }
      ]
    },
    {
      "cell_type": "code",
      "source": [
        "len(modified_token_list)"
      ],
      "metadata": {
        "colab": {
          "base_uri": "https://localhost:8080/"
        },
        "id": "iSYX8LGvS4e1",
        "outputId": "2cd44c91-e453-472a-9960-d8be130be07c"
      },
      "execution_count": 46,
      "outputs": [
        {
          "output_type": "execute_result",
          "data": {
            "text/plain": [
              "106"
            ]
          },
          "metadata": {},
          "execution_count": 46
        }
      ]
    },
    {
      "cell_type": "code",
      "source": [
        "# we can also use regex to remove mobile number"
      ],
      "metadata": {
        "id": "w_ea62pvS4hS"
      },
      "execution_count": 47,
      "outputs": []
    },
    {
      "cell_type": "code",
      "source": [
        "test = \"hi my name is rani sikdar and my mobile number is 9999887766\""
      ],
      "metadata": {
        "id": "otsjG_thS4jk"
      },
      "execution_count": 52,
      "outputs": []
    },
    {
      "cell_type": "code",
      "source": [
        "import re\n",
        "\n",
        "re.sub(r'\\b\\d{10}\\b', '', test) # regular experssion for mobile number"
      ],
      "metadata": {
        "colab": {
          "base_uri": "https://localhost:8080/",
          "height": 36
        },
        "id": "s7Q3lZJzS4mJ",
        "outputId": "6ad8d965-7444-4233-bb76-6febdc38cafb"
      },
      "execution_count": 53,
      "outputs": [
        {
          "output_type": "execute_result",
          "data": {
            "text/plain": [
              "'hi my name is rani sikdar and my mobile number is '"
            ],
            "application/vnd.google.colaboratory.intrinsic+json": {
              "type": "string"
            }
          },
          "metadata": {},
          "execution_count": 53
        }
      ]
    },
    {
      "cell_type": "code",
      "source": [],
      "metadata": {
        "id": "QQHQ5yuBS4pT"
      },
      "execution_count": null,
      "outputs": []
    },
    {
      "cell_type": "code",
      "source": [],
      "metadata": {
        "id": "dr61nsJeS4s2"
      },
      "execution_count": null,
      "outputs": []
    }
  ]
}