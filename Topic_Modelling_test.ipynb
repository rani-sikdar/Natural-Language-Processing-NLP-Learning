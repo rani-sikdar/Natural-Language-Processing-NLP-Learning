{
  "nbformat": 4,
  "nbformat_minor": 0,
  "metadata": {
    "colab": {
      "provenance": [],
      "authorship_tag": "ABX9TyMlrGfaviWcMg9wypLKudJ+",
      "include_colab_link": true
    },
    "kernelspec": {
      "name": "python3",
      "display_name": "Python 3"
    },
    "language_info": {
      "name": "python"
    }
  },
  "cells": [
    {
      "cell_type": "markdown",
      "metadata": {
        "id": "view-in-github",
        "colab_type": "text"
      },
      "source": [
        "<a href=\"https://colab.research.google.com/github/rani-sikdar/Natural-Language-Processing-NLP-Learning/blob/main/Topic_Modelling_test.ipynb\" target=\"_parent\"><img src=\"https://colab.research.google.com/assets/colab-badge.svg\" alt=\"Open In Colab\"/></a>"
      ]
    },
    {
      "cell_type": "code",
      "execution_count": 1,
      "metadata": {
        "colab": {
          "base_uri": "https://localhost:8080/"
        },
        "id": "b6qkdFF8u0H8",
        "outputId": "0d2e47ba-23e3-40ae-fbfa-be8afb6cc4d6"
      },
      "outputs": [
        {
          "output_type": "stream",
          "name": "stdout",
          "text": [
            "Requirement already satisfied: gensim in /usr/local/lib/python3.10/dist-packages (4.3.3)\n",
            "Requirement already satisfied: numpy<2.0,>=1.18.5 in /usr/local/lib/python3.10/dist-packages (from gensim) (1.26.4)\n",
            "Requirement already satisfied: scipy<1.14.0,>=1.7.0 in /usr/local/lib/python3.10/dist-packages (from gensim) (1.13.1)\n",
            "Requirement already satisfied: smart-open>=1.8.1 in /usr/local/lib/python3.10/dist-packages (from gensim) (7.0.5)\n",
            "Requirement already satisfied: wrapt in /usr/local/lib/python3.10/dist-packages (from smart-open>=1.8.1->gensim) (1.16.0)\n"
          ]
        }
      ],
      "source": [
        "pip install gensim"
      ]
    },
    {
      "cell_type": "code",
      "source": [
        "from gensim import corpora"
      ],
      "metadata": {
        "id": "KcxR5KeIu03S"
      },
      "execution_count": 2,
      "outputs": []
    },
    {
      "cell_type": "code",
      "source": [
        "nlp_document = [\n",
        "    \"Natural Language Processing (NLP) is a branch of artificial intelligence that enables computers to understand, interpret, and generate human language.\",\n",
        "    \"The implementation of NLP involves processing textual data to extract meaningful insights, perform sentiment analysis, classify topics, or identify named entities.\",\n",
        "    \"This document provides an overview of the code used to preprocess and analyze text data.\",\n",
        "]"
      ],
      "metadata": {
        "id": "_OcDLsfru06H"
      },
      "execution_count": 11,
      "outputs": []
    },
    {
      "cell_type": "code",
      "source": [
        "texts = [ sub.split() for sub in nlp_document]\n",
        "print(texts)"
      ],
      "metadata": {
        "colab": {
          "base_uri": "https://localhost:8080/"
        },
        "id": "EnJ8j2GTu0_K",
        "outputId": "b92d67e6-b492-47ed-9a7f-a0b50b7f5ccd"
      },
      "execution_count": 12,
      "outputs": [
        {
          "output_type": "stream",
          "name": "stdout",
          "text": [
            "[['Natural', 'Language', 'Processing', '(NLP)', 'is', 'a', 'branch', 'of', 'artificial', 'intelligence', 'that', 'enables', 'computers', 'to', 'understand,', 'interpret,', 'and', 'generate', 'human', 'language.'], ['The', 'implementation', 'of', 'NLP', 'involves', 'processing', 'textual', 'data', 'to', 'extract', 'meaningful', 'insights,', 'perform', 'sentiment', 'analysis,', 'classify', 'topics,', 'or', 'identify', 'named', 'entities.'], ['This', 'document', 'provides', 'an', 'overview', 'of', 'the', 'code', 'used', 'to', 'preprocess', 'and', 'analyze', 'text', 'data.']]\n"
          ]
        }
      ]
    },
    {
      "cell_type": "code",
      "source": [
        "dictionary = corpora.Dictionary(texts)"
      ],
      "metadata": {
        "id": "ojJ65hcHu1EX"
      },
      "execution_count": 13,
      "outputs": []
    },
    {
      "cell_type": "code",
      "source": [
        "test= 'He likes to work on NLP which helps to provide extracting meaningful insights, perform sentiment analysis, classify topics'\n",
        "test_vec= dictionary.doc2bow(test.split())"
      ],
      "metadata": {
        "id": "B22NJ0rVxb1M"
      },
      "execution_count": 14,
      "outputs": []
    },
    {
      "cell_type": "code",
      "source": [
        "data = [dictionary.doc2bow(document.split()) for document in nlp_document]"
      ],
      "metadata": {
        "id": "R5oCSqOhxb31"
      },
      "execution_count": 15,
      "outputs": []
    },
    {
      "cell_type": "code",
      "source": [
        "data"
      ],
      "metadata": {
        "colab": {
          "base_uri": "https://localhost:8080/"
        },
        "id": "4WRHtFHE12JI",
        "outputId": "34472988-685e-4418-ebd3-7502db931b4b"
      },
      "execution_count": 16,
      "outputs": [
        {
          "output_type": "execute_result",
          "data": {
            "text/plain": [
              "[[(0, 1),\n",
              "  (1, 1),\n",
              "  (2, 1),\n",
              "  (3, 1),\n",
              "  (4, 1),\n",
              "  (5, 1),\n",
              "  (6, 1),\n",
              "  (7, 1),\n",
              "  (8, 1),\n",
              "  (9, 1),\n",
              "  (10, 1),\n",
              "  (11, 1),\n",
              "  (12, 1),\n",
              "  (13, 1),\n",
              "  (14, 1),\n",
              "  (15, 1),\n",
              "  (16, 1),\n",
              "  (17, 1),\n",
              "  (18, 1),\n",
              "  (19, 1)],\n",
              " [(16, 1),\n",
              "  (18, 1),\n",
              "  (20, 1),\n",
              "  (21, 1),\n",
              "  (22, 1),\n",
              "  (23, 1),\n",
              "  (24, 1),\n",
              "  (25, 1),\n",
              "  (26, 1),\n",
              "  (27, 1),\n",
              "  (28, 1),\n",
              "  (29, 1),\n",
              "  (30, 1),\n",
              "  (31, 1),\n",
              "  (32, 1),\n",
              "  (33, 1),\n",
              "  (34, 1),\n",
              "  (35, 1),\n",
              "  (36, 1),\n",
              "  (37, 1),\n",
              "  (38, 1)],\n",
              " [(5, 1),\n",
              "  (16, 1),\n",
              "  (18, 1),\n",
              "  (39, 1),\n",
              "  (40, 1),\n",
              "  (41, 1),\n",
              "  (42, 1),\n",
              "  (43, 1),\n",
              "  (44, 1),\n",
              "  (45, 1),\n",
              "  (46, 1),\n",
              "  (47, 1),\n",
              "  (48, 1),\n",
              "  (49, 1),\n",
              "  (50, 1)]]"
            ]
          },
          "metadata": {},
          "execution_count": 16
        }
      ]
    },
    {
      "cell_type": "code",
      "source": [
        "from gensim.models import LdaModel"
      ],
      "metadata": {
        "id": "z6u4tSILxb6t"
      },
      "execution_count": 17,
      "outputs": []
    },
    {
      "cell_type": "code",
      "source": [
        "lda= LdaModel(data, num_topics= 2)"
      ],
      "metadata": {
        "colab": {
          "base_uri": "https://localhost:8080/"
        },
        "id": "vaNBSIVzxb9U",
        "outputId": "8ccbaf07-b1ce-42c7-fc61-c416beb83f51"
      },
      "execution_count": 18,
      "outputs": [
        {
          "output_type": "stream",
          "name": "stderr",
          "text": [
            "WARNING:gensim.models.ldamodel:no word id mapping provided; initializing from corpus, assuming identity\n",
            "WARNING:gensim.models.ldamodel:too few updates, training might not converge; consider increasing the number of passes or iterations to improve accuracy\n"
          ]
        }
      ]
    },
    {
      "cell_type": "code",
      "source": [
        "test= 'He likes to work on NLP which helps to provide extracting meaningful insights, perform sentiment analysis, classify topics'\n",
        "test_vec= dictionary.doc2bow(test.split())"
      ],
      "metadata": {
        "id": "SaBQcbAJxb_6"
      },
      "execution_count": 19,
      "outputs": []
    },
    {
      "cell_type": "code",
      "source": [
        "output = lda[test_vec]"
      ],
      "metadata": {
        "id": "45oLGGuBxcCw"
      },
      "execution_count": 20,
      "outputs": []
    },
    {
      "cell_type": "code",
      "source": [
        "output"
      ],
      "metadata": {
        "colab": {
          "base_uri": "https://localhost:8080/"
        },
        "id": "u1O4xjY_xcGJ",
        "outputId": "beb72f12-3b78-4e0f-8a7a-b662fdc59749"
      },
      "execution_count": 21,
      "outputs": [
        {
          "output_type": "execute_result",
          "data": {
            "text/plain": [
              "[(0, 0.9290376), (1, 0.070962474)]"
            ]
          },
          "metadata": {},
          "execution_count": 21
        }
      ]
    },
    {
      "cell_type": "code",
      "source": [
        "lda.show_topics(formatted= False)"
      ],
      "metadata": {
        "colab": {
          "base_uri": "https://localhost:8080/"
        },
        "id": "LqwIj2nj3Of0",
        "outputId": "97f466db-f2ec-4989-d4f5-0001606e6985"
      },
      "execution_count": 22,
      "outputs": [
        {
          "output_type": "execute_result",
          "data": {
            "text/plain": [
              "[(0,\n",
              "  [('16', 0.034234494),\n",
              "   ('18', 0.03228674),\n",
              "   ('21', 0.026794342),\n",
              "   ('26', 0.026156502),\n",
              "   ('25', 0.025963524),\n",
              "   ('33', 0.025960911),\n",
              "   ('24', 0.025883669),\n",
              "   ('36', 0.025788043),\n",
              "   ('23', 0.02578791),\n",
              "   ('27', 0.025109919)]),\n",
              " (1,\n",
              "  [('18', 0.04141294),\n",
              "   ('16', 0.039872836),\n",
              "   ('5', 0.03417321),\n",
              "   ('4', 0.022809159),\n",
              "   ('9', 0.02265619),\n",
              "   ('0', 0.022604387),\n",
              "   ('14', 0.022517873),\n",
              "   ('7', 0.022425031),\n",
              "   ('17', 0.022409806),\n",
              "   ('3', 0.022404926)])]"
            ]
          },
          "metadata": {},
          "execution_count": 22
        }
      ]
    },
    {
      "cell_type": "code",
      "source": [
        "output"
      ],
      "metadata": {
        "colab": {
          "base_uri": "https://localhost:8080/"
        },
        "id": "R7ivGJ9H3Oik",
        "outputId": "29a0be7a-e9ea-4794-d0d1-11a5d1eebf10"
      },
      "execution_count": 23,
      "outputs": [
        {
          "output_type": "execute_result",
          "data": {
            "text/plain": [
              "[(0, 0.9290376), (1, 0.070962474)]"
            ]
          },
          "metadata": {},
          "execution_count": 23
        }
      ]
    },
    {
      "cell_type": "code",
      "source": [],
      "metadata": {
        "id": "xhmr_LcobGTp"
      },
      "execution_count": null,
      "outputs": []
    }
  ]
}